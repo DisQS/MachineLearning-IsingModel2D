{
 "cells": [
  {
   "cell_type": "code",
   "execution_count": 2,
   "metadata": {},
   "outputs": [],
   "source": [
    "import numpy as np\n",
    "import matplotlib.pyplot as plt\n",
    "import random\n",
    "import pickle as pkl\n",
    "import imageio\n",
    "import time\n",
    "import os"
   ]
  },
  {
   "cell_type": "code",
   "execution_count": 9,
   "metadata": {},
   "outputs": [],
   "source": [
    "def file_name(lattice_size,J,h,T,seed):\n",
    "    return f'SQ_L_{lattice_size}_J_{J:.2f}_h_{h:.2f}_T_{T}_s_{seed}'\n",
    "\n",
    "\n",
    "def read_data(lattice_size, J,h,T_init,T_final,seed,num_samples):\n",
    "    TEMPERATURE_SCALE = 1000\n",
    "    MAIN_DIRECTORY = \"ising_data\"\n",
    "    # We define the T_index as the index number of the values of T\n",
    "    # written in the file name, seperated by \"_\". So in this case e.g.\n",
    "    # file_name = ...._T_1545_seed_1001 \n",
    "    # index: 2 gives value of lattice size\n",
    "    # index: 10 gives value of \"seed\"\n",
    "    # index from last: 3 gives 1545 i.e. the value of T\n",
    "    \n",
    "    L_INDEX = 2\n",
    "    J_INDEX = 4\n",
    "    H_INDEX = 6\n",
    "    T_INDEX = 8\n",
    "    SEED_INDEX = 10\n",
    "\n",
    "    # We scale up the T values to search and parse directories\n",
    "    scale_up_T_init = T_init * TEMPERATURE_SCALE\n",
    "    scale_up_T_final = T_final * TEMPERATURE_SCALE\n",
    "    \n",
    "    # Get a numpy array of all the subdirectories\n",
    "    sub_directories = np.asarray([f.path for f in os.scandir(MAIN_DIRECTORY) if f.is_dir()])\n",
    "    # Now we parse the T values from the directory names\n",
    "    parsed_T_values = np.zeros(sub_directories.size)\n",
    "    \n",
    "    for dir_names in np.arange(sub_directories.size):\n",
    "        # First we split the directory names with \"_\"\n",
    "        sub_directories[dir_names] = sub_directories[dir_names].lstrip(MAIN_DIRECTORY + \"/\")\n",
    "        split_directory_name = np.asarray(sub_directories[dir_names].split(\"_\"))\n",
    "        # Now we take the file names that fit our needs\n",
    "        condition = split_directory_name[L_INDEX].astype(int) == lattice_size and \\\n",
    "                    split_directory_name[J_INDEX].astype(float)==J and \\\n",
    "                    split_directory_name[H_INDEX].astype(float) == h and \\\n",
    "                    split_directory_name[SEED_INDEX].astype(int) == seed\n",
    "        if condition:\n",
    "            # Now we take the T values. \n",
    "            parsed_T_values[dir_names] = split_directory_name[T_INDEX]\n",
    "    \n",
    "    # Now we drop the values that are not in the [T_init,T_final] interval\n",
    "    # First, all the values less than T_init will be changed to zero\n",
    "    parsed_T_values[np.where(parsed_T_values<scale_up_T_init)]=0\n",
    "    \n",
    "    # Similarly, all the values greater than T_final will be changed to zero\n",
    "    parsed_T_values[np.where(parsed_T_values>scale_up_T_final)]=0\n",
    "\n",
    "    # Now we trim all the zeros, and make sure everything is sorted as integers\n",
    "    # Since our file names are integeres\n",
    "    parsed_T_values = np.trim_zeros(np.sort(parsed_T_values.astype(int)))\n",
    "    os.chdir(MAIN_DIRECTORY)\n",
    "    # Now we have everything needed to create our filenames and read it\n",
    "    data = {}\n",
    "\n",
    "    if parsed_T_values.size > num_samples:\n",
    "        # Randomly choose among the T values we have\n",
    "        random_indexes = np.random.choice(parsed_T_values.size, num_samples, replace=False)\n",
    "        for files in np.arange(num_samples):\n",
    "            random_T = parsed_T_values[random_indexes[files]]\n",
    "            directory_name = file_name(lattice_size, J,h,random_T,seed)\n",
    "            os.chdir(directory_name)\n",
    "            key_name = str(random_T)\n",
    "            open_file = open(directory_name + \".pkl\",'rb')\n",
    "            data_sample = pkl.load(open_file)\n",
    "            data.update({key_name: data_sample})\n",
    "            os.chdir('..')\n",
    "    else:\n",
    "        for files in np.arange(parsed_T_values.size):\n",
    "            directory_name = file_name(lattice_size, J,h,parsed_T_values[files],seed)\n",
    "            os.chdir(directory_name)\n",
    "            key_name = str(parsed_T_values[files])\n",
    "            open_file = open(directory_name + \".pkl\",'rb')\n",
    "            data_sample = pkl.load(open_file)\n",
    "            data.update({key_name: data_sample})\n",
    "            os.chdir('..')\n",
    "    os.chdir(\"..\")\n",
    "    return data\n",
    "\n",
    "\n",
    "def get_configurations(lattice_size, J,h,T_init,T_final,seed,num_samples):\n",
    "    # First we get the data\n",
    "    get_data = read_data(lattice_size, J,h,T_init,T_final,seed,num_samples)\n",
    "    if get_data == []:\n",
    "        print(\"There is no such data.\")\n",
    "        return None,None\n",
    "    # Let us extract the keys i.e. temperatures (scaled up temperatures)\n",
    "    keys = np.array(list(get_data.keys())).astype(int)\n",
    "    # Initialize configurations array\n",
    "    configurations = np.zeros((keys.size, get_data[f\"%d\"%keys[0]]['lattice_configuration'].shape[0] ,lattice_size, lattice_size))\n",
    "    \n",
    "    # We iterate to get all the configurations in one array  \n",
    "    for i in np.arange(keys.size):\n",
    "        configurations[i] = get_data[keys[i].astype(str)]['lattice_configuration']\n",
    "        \n",
    "    # Now first element of keys array, is the temperature of\n",
    "    # the first element of configurations array.\n",
    "    return keys, configurations"
   ]
  },
  {
   "cell_type": "code",
   "execution_count": 14,
   "metadata": {},
   "outputs": [],
   "source": [
    "sub_directories = np.asarray([f.path for f in os.scandir(\"ising_data\") if f.is_dir()])"
   ]
  },
  {
   "cell_type": "code",
   "execution_count": 49,
   "metadata": {
    "scrolled": true
   },
   "outputs": [],
   "source": [
    "temperatures, configurations = get_configurations(lattice_size = 128 ,\n",
    "                                                  J = 1.0 ,\n",
    "                                                  h = 0 ,\n",
    "                                                  T_init = 1.0 ,\n",
    "                                                  T_final = 3.52 ,\n",
    "                                                  seed = 0 , \n",
    "                                                  num_samples = 2000)\n",
    "\n",
    "for s in np.arange(1,9):\n",
    "    temp, conf = get_configurations(lattice_size = 128 ,\n",
    "                                                  J = 1.0 ,\n",
    "                                                  h = 0 ,\n",
    "                                                  T_init = 1.0 ,\n",
    "                                                  T_final = 3.52 ,\n",
    "                                                  seed = s , \n",
    "                                                  num_samples = 2000)\n",
    "    configurations = np.concatenate([configurations,conf],axis=1)\n"
   ]
  },
  {
   "cell_type": "code",
   "execution_count": 50,
   "metadata": {},
   "outputs": [
    {
     "data": {
      "text/plain": [
       "(5, 189, 128, 128)"
      ]
     },
     "execution_count": 50,
     "metadata": {},
     "output_type": "execute_result"
    }
   ],
   "source": [
    "configurations.shape"
   ]
  },
  {
   "cell_type": "code",
   "execution_count": null,
   "metadata": {},
   "outputs": [],
   "source": []
  }
 ],
 "metadata": {
  "kernelspec": {
   "display_name": "Python 3",
   "language": "python",
   "name": "python3"
  },
  "language_info": {
   "codemirror_mode": {
    "name": "ipython",
    "version": 3
   },
   "file_extension": ".py",
   "mimetype": "text/x-python",
   "name": "python",
   "nbconvert_exporter": "python",
   "pygments_lexer": "ipython3",
   "version": "3.7.4"
  }
 },
 "nbformat": 4,
 "nbformat_minor": 2
}
