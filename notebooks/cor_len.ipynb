{
 "cells": [
  {
   "cell_type": "code",
   "execution_count": 11,
   "metadata": {},
   "outputs": [
    {
     "name": "stdout",
     "output_type": "stream",
     "text": [
      "/Users/burakcivitcioglu/Documents/doctorat/ising/pkls\n"
     ]
    }
   ],
   "source": [
    "cd pkls"
   ]
  },
  {
   "cell_type": "code",
   "execution_count": 2,
   "metadata": {},
   "outputs": [],
   "source": [
    "from os import listdir\n",
    "from os.path import isfile, join\n",
    "import matplotlib.pyplot as plt\n",
    "\n",
    "mypath = '/Users/burakcivitcioglu/Documents/doctorat/ising/pkls'\n",
    "onlyfiles = [f for f in listdir(mypath) if isfile(join(mypath, f))]"
   ]
  },
  {
   "cell_type": "code",
   "execution_count": 7,
   "metadata": {
    "scrolled": true
   },
   "outputs": [],
   "source": [
    "onlyfiles.sort(reverse=True)"
   ]
  },
  {
   "cell_type": "code",
   "execution_count": 8,
   "metadata": {},
   "outputs": [
    {
     "data": {
      "text/plain": [
       "['SQ_L_100_J_1.00_h_0.00_T_4.00_s_4136_n_0.pkl',\n",
       " 'SQ_L_100_J_1.00_h_0.00_T_3.90_s_4136_n_0.pkl',\n",
       " 'SQ_L_100_J_1.00_h_0.00_T_3.80_s_4136_n_0.pkl',\n",
       " 'SQ_L_100_J_1.00_h_0.00_T_3.70_s_4136_n_0.pkl',\n",
       " 'SQ_L_100_J_1.00_h_0.00_T_3.60_s_4136_n_0.pkl',\n",
       " 'SQ_L_100_J_1.00_h_0.00_T_3.50_s_4136_n_0.pkl',\n",
       " 'SQ_L_100_J_1.00_h_0.00_T_3.40_s_4136_n_0.pkl',\n",
       " 'SQ_L_100_J_1.00_h_0.00_T_3.30_s_4136_n_0.pkl',\n",
       " 'SQ_L_100_J_1.00_h_0.00_T_3.20_s_4136_n_0.pkl',\n",
       " 'SQ_L_100_J_1.00_h_0.00_T_3.10_s_4136_n_0.pkl',\n",
       " 'SQ_L_100_J_1.00_h_0.00_T_3.00_s_4136_n_0.pkl',\n",
       " 'SQ_L_100_J_1.00_h_0.00_T_2.90_s_4136_n_0.pkl',\n",
       " 'SQ_L_100_J_1.00_h_0.00_T_2.80_s_4136_n_0.pkl',\n",
       " 'SQ_L_100_J_1.00_h_0.00_T_2.70_s_4136_n_0.pkl',\n",
       " 'SQ_L_100_J_1.00_h_0.00_T_2.60_s_4136_n_0.pkl',\n",
       " 'SQ_L_100_J_1.00_h_0.00_T_2.50_s_4136_n_0.pkl',\n",
       " 'SQ_L_100_J_1.00_h_0.00_T_2.40_s_4136_n_0.pkl',\n",
       " 'SQ_L_100_J_1.00_h_0.00_T_2.30_s_4136_n_0.pkl',\n",
       " 'SQ_L_100_J_1.00_h_0.00_T_2.20_s_4136_n_0.pkl',\n",
       " 'SQ_L_100_J_1.00_h_0.00_T_2.10_s_4136_n_0.pkl',\n",
       " 'SQ_L_100_J_1.00_h_0.00_T_2.00_s_4136_n_0.pkl',\n",
       " 'SQ_L_100_J_1.00_h_0.00_T_1.90_s_4136_n_0.pkl',\n",
       " 'SQ_L_100_J_1.00_h_0.00_T_1.80_s_4136_n_0.pkl',\n",
       " 'SQ_L_100_J_1.00_h_0.00_T_1.70_s_4136_n_0.pkl',\n",
       " 'SQ_L_100_J_1.00_h_0.00_T_1.60_s_4136_n_0.pkl',\n",
       " 'SQ_L_100_J_1.00_h_0.00_T_1.50_s_4136_n_0.pkl',\n",
       " 'SQ_L_100_J_1.00_h_0.00_T_1.00_s_4136_n_0.pkl',\n",
       " 'SQ_L_100_J_1.00_h_0.00_T_0.50_s_4136_n_0.pkl']"
      ]
     },
     "execution_count": 8,
     "metadata": {},
     "output_type": "execute_result"
    }
   ],
   "source": [
    "onlyfiles"
   ]
  },
  {
   "cell_type": "code",
   "execution_count": 9,
   "metadata": {
    "scrolled": true
   },
   "outputs": [],
   "source": [
    "pkl_files = []"
   ]
  },
  {
   "cell_type": "code",
   "execution_count": 12,
   "metadata": {},
   "outputs": [],
   "source": [
    "import pickle\n",
    "for i in onlyfiles:\n",
    "    with open(i, 'rb') as f:\n",
    "        pkl_files.append(pickle.load(f))"
   ]
  },
  {
   "cell_type": "code",
   "execution_count": 13,
   "metadata": {},
   "outputs": [
    {
     "data": {
      "text/plain": [
       "0.46237073076199964"
      ]
     },
     "execution_count": 13,
     "metadata": {},
     "output_type": "execute_result"
    }
   ],
   "source": [
    "import numpy as np\n",
    "pkl_files = np.array(pkl_files)\n",
    "pkl_files[0]['correlation_length']"
   ]
  },
  {
   "cell_type": "code",
   "execution_count": 14,
   "metadata": {},
   "outputs": [],
   "source": [
    "correlation_lengths = np.zeros(28)\n",
    "for i in np.arange(pkl_files.size):\n",
    "    correlation_lengths[i] = pkl_files[i]['correlation_length']"
   ]
  },
  {
   "cell_type": "code",
   "execution_count": 15,
   "metadata": {
    "scrolled": true
   },
   "outputs": [
    {
     "data": {
      "image/png": "[encoded data removed]",
      "text/plain": [
       "<Figure size 432x288 with 1 Axes>"
      ]
     },
     "metadata": {
      "needs_background": "light"
     },
     "output_type": "display_data"
    }
   ],
   "source": [
    "for i in np.arange(pkl_files.size):\n",
    "    plt.plot(pkl_files[0]['distances'],pkl_files[i]['correlation_function'])\n"
   ]
  },
  {
   "cell_type": "code",
   "execution_count": 16,
   "metadata": {},
   "outputs": [],
   "source": [
    "temperature = np.array([4,3.9,3.8,3.7,3.6,3.5,3.4,3.3,3.2,3.1,3.0,2.9,2.8,2.7,2.6,2.5,2.4,2.3,2.2,2.1,2.0,1.9,1.8,1.7,1.6,1.5,1.0,0.5])"
   ]
  },
  {
   "cell_type": "code",
   "execution_count": 17,
   "metadata": {},
   "outputs": [
    {
     "name": "stdout",
     "output_type": "stream",
     "text": [
      "{'configuration': array([[ 1.,  1., -1., ..., -1.,  1., -1.],\n",
      "       [ 1., -1., -1., ..., -1., -1., -1.],\n",
      "       [-1., -1., -1., ..., -1.,  1.,  1.],\n",
      "       ...,\n",
      "       [ 1., -1.,  1., ...,  1., -1., -1.],\n",
      "       [-1., -1., -1., ...,  1., -1., -1.],\n",
      "       [-1., -1., -1., ...,  1., -1., -1.]]), 'energy': -0.5644, 'magnetization': 0.0134, 'correlation_length': 0.46237073076199964, 'correlation_function': array([ 9.9982044e-01,  2.8202044e-01,  1.4202044e-01, ...,\n",
      "        8.2044000e-04, -7.9795600e-03, -7.9795600e-03]), 'distances': array([ 0.        ,  1.        ,  1.41421356, ..., 69.3108938 ,\n",
      "       70.00714249, 70.71067812])}\n",
      "{'configuration': array([[ 1., -1., -1., ..., -1.,  1.,  1.],\n",
      "       [ 1., -1.,  1., ..., -1., -1.,  1.],\n",
      "       [-1.,  1.,  1., ..., -1., -1., -1.],\n",
      "       ...,\n",
      "       [ 1., -1.,  1., ...,  1.,  1.,  1.],\n",
      "       [ 1.,  1.,  1., ...,  1.,  1., -1.],\n",
      "       [ 1.,  1.,  1., ...,  1.,  1., -1.]]), 'energy': -0.568, 'magnetization': -0.0212, 'correlation_length': 0.5596315181936194, 'correlation_function': array([0.99955056, 0.28355056, 0.13675056, ..., 0.01935056, 0.02555056,\n",
      "       0.02555056]), 'distances': array([ 0.        ,  1.        ,  1.41421356, ..., 69.3108938 ,\n",
      "       70.00714249, 70.71067812])}\n",
      "{'configuration': array([[ 1.,  1.,  1., ..., -1., -1., -1.],\n",
      "       [ 1.,  1., -1., ..., -1., -1.,  1.],\n",
      "       [ 1.,  1.,  1., ..., -1., -1., -1.],\n",
      "       ...,\n",
      "       [-1.,  1.,  1., ..., -1.,  1.,  1.],\n",
      "       [-1.,  1.,  1., ...,  1., -1., -1.],\n",
      "       [-1.,  1.,  1., ..., -1., -1., -1.]]), 'energy': -0.624, 'magnetization': 0.0148, 'correlation_length': 0.6932477516502081, 'correlation_function': array([ 0.99978096,  0.31178096,  0.17838096, ...,  0.00478096,\n",
      "       -0.00221904, -0.00221904]), 'distances': array([ 0.        ,  1.        ,  1.41421356, ..., 69.3108938 ,\n",
      "       70.00714249, 70.71067812])}\n",
      "{'configuration': array([[-1.,  1., -1., ...,  1., -1., -1.],\n",
      "       [ 1.,  1.,  1., ...,  1.,  1., -1.],\n",
      "       [-1.,  1.,  1., ...,  1.,  1.,  1.],\n",
      "       ...,\n",
      "       [-1., -1., -1., ...,  1.,  1.,  1.],\n",
      "       [ 1.,  1., -1., ...,  1.,  1.,  1.],\n",
      "       [-1.,  1.,  1., ...,  1.,  1.,  1.]]), 'energy': -0.6416, 'magnetization': -0.0012, 'correlation_length': 0.6260648021345822, 'correlation_function': array([ 9.9999856e-01,  3.2079856e-01,  1.7839856e-01, ...,\n",
      "       -8.0144000e-04, -1.9601440e-02, -1.9601440e-02]), 'distances': array([ 0.        ,  1.        ,  1.41421356, ..., 69.3108938 ,\n",
      "       70.00714249, 70.71067812])}\n",
      "{'configuration': array([[-1.,  1.,  1., ...,  1., -1., -1.],\n",
      "       [-1., -1., -1., ..., -1., -1., -1.],\n",
      "       [-1., -1., -1., ..., -1., -1.,  1.],\n",
      "       ...,\n",
      "       [-1., -1., -1., ...,  1., -1., -1.],\n",
      "       [-1., -1., -1., ...,  1.,  1., -1.],\n",
      "       [-1., -1., -1., ..., -1., -1., -1.]]), 'energy': -0.6404, 'magnetization': 0.0238, 'correlation_length': 0.6521883305765359, 'correlation_function': array([ 9.9943356e-01,  3.1963356e-01,  1.7403356e-01, ...,\n",
      "        8.8335600e-03, -1.6644000e-04, -1.6644000e-04]), 'distances': array([ 0.        ,  1.        ,  1.41421356, ..., 69.3108938 ,\n",
      "       70.00714249, 70.71067812])}\n",
      "{'configuration': array([[ 1.,  1.,  1., ..., -1.,  1.,  1.],\n",
      "       [ 1., -1., -1., ..., -1.,  1.,  1.],\n",
      "       [-1., -1., -1., ..., -1., -1., -1.],\n",
      "       ...,\n",
      "       [-1.,  1.,  1., ..., -1.,  1., -1.],\n",
      "       [ 1.,  1.,  1., ..., -1.,  1.,  1.],\n",
      "       [-1.,  1.,  1., ..., -1., -1., -1.]]), 'energy': -0.6396, 'magnetization': 0.0146, 'correlation_length': 0.830950118751845, 'correlation_function': array([0.99978684, 0.31958684, 0.17358684, ..., 0.00538684, 0.01058684,\n",
      "       0.01058684]), 'distances': array([ 0.        ,  1.        ,  1.41421356, ..., 69.3108938 ,\n",
      "       70.00714249, 70.71067812])}\n",
      "{'configuration': array([[ 1.,  1., -1., ...,  1.,  1., -1.],\n",
      "       [ 1.,  1.,  1., ...,  1.,  1.,  1.],\n",
      "       [ 1.,  1., -1., ...,  1.,  1.,  1.],\n",
      "       ...,\n",
      "       [-1., -1.,  1., ...,  1., -1., -1.],\n",
      "       [ 1.,  1., -1., ..., -1., -1., -1.],\n",
      "       [ 1.,  1., -1., ..., -1.,  1., -1.]]), 'energy': -0.6744, 'magnetization': -0.0422, 'correlation_length': 0.7480975479556209, 'correlation_function': array([0.99821916, 0.33541916, 0.19321916, ..., 0.00801916, 0.00161916,\n",
      "       0.00161916]), 'distances': array([ 0.        ,  1.        ,  1.41421356, ..., 69.3108938 ,\n",
      "       70.00714249, 70.71067812])}\n",
      "{'configuration': array([[ 1., -1., -1., ...,  1., -1.,  1.],\n",
      "       [ 1., -1., -1., ..., -1., -1.,  1.],\n",
      "       [-1., -1.,  1., ..., -1., -1.,  1.],\n",
      "       ...,\n",
      "       [-1., -1., -1., ...,  1., -1.,  1.],\n",
      "       [-1., -1.,  1., ...,  1., -1., -1.],\n",
      "       [ 1.,  1.,  1., ...,  1., -1., -1.]]), 'energy': -0.7032, 'magnetization': -0.0134, 'correlation_length': 0.6230300358853562, 'correlation_function': array([ 0.99982044,  0.35142044,  0.20762044, ..., -0.00277956,\n",
      "        0.01262044,  0.01262044]), 'distances': array([ 0.        ,  1.        ,  1.41421356, ..., 69.3108938 ,\n",
      "       70.00714249, 70.71067812])}\n",
      "{'configuration': array([[-1.,  1.,  1., ...,  1., -1., -1.],\n",
      "       [ 1.,  1.,  1., ...,  1.,  1., -1.],\n",
      "       [-1.,  1., -1., ..., -1., -1., -1.],\n",
      "       ...,\n",
      "       [-1.,  1.,  1., ..., -1.,  1., -1.],\n",
      "       [-1., -1., -1., ..., -1., -1., -1.],\n",
      "       [-1., -1.,  1., ...,  1.,  1., -1.]]), 'energy': -0.7748, 'magnetization': -0.0352, 'correlation_length': 0.9528512152899264, 'correlation_function': array([ 0.99876096,  0.38616096,  0.23376096, ..., -0.01063904,\n",
      "       -0.00463904, -0.00463904]), 'distances': array([ 0.        ,  1.        ,  1.41421356, ..., 69.3108938 ,\n",
      "       70.00714249, 70.71067812])}\n",
      "{'configuration': array([[-1., -1., -1., ...,  1., -1.,  1.],\n",
      "       [-1., -1., -1., ..., -1., -1.,  1.],\n",
      "       [ 1.,  1., -1., ..., -1., -1., -1.],\n",
      "       ...,\n",
      "       [-1., -1., -1., ...,  1.,  1.,  1.],\n",
      "       [ 1.,  1., -1., ...,  1.,  1.,  1.],\n",
      "       [-1., -1., -1., ...,  1., -1.,  1.]]), 'energy': -0.7816, 'magnetization': 0.028, 'correlation_length': 0.9156523046115335, 'correlation_function': array([ 0.999216,  0.390016,  0.246616, ...,  0.005216, -0.006384,\n",
      "       -0.006384]), 'distances': array([ 0.        ,  1.        ,  1.41421356, ..., 69.3108938 ,\n",
      "       70.00714249, 70.71067812])}\n",
      "{'configuration': array([[-1., -1., -1., ..., -1.,  1., -1.],\n",
      "       [-1., -1., -1., ..., -1., -1., -1.],\n",
      "       [-1., -1., -1., ..., -1., -1., -1.],\n",
      "       ...,\n",
      "       [-1., -1., -1., ...,  1., -1., -1.],\n",
      "       [-1., -1., -1., ..., -1., -1., -1.],\n",
      "       [-1., -1., -1., ..., -1., -1., -1.]]), 'energy': -0.8368, 'magnetization': -0.002, 'correlation_length': 1.1722732036277193, 'correlation_function': array([ 0.999996,  0.418396,  0.270596, ..., -0.018004, -0.022804,\n",
      "       -0.022804]), 'distances': array([ 0.        ,  1.        ,  1.41421356, ..., 69.3108938 ,\n",
      "       70.00714249, 70.71067812])}\n",
      "{'configuration': array([[-1., -1.,  1., ...,  1.,  1.,  1.],\n",
      "       [-1., -1., -1., ...,  1.,  1.,  1.],\n",
      "       [ 1., -1., -1., ...,  1.,  1.,  1.],\n",
      "       ...,\n",
      "       [ 1., -1., -1., ...,  1.,  1.,  1.],\n",
      "       [ 1., -1., -1., ..., -1.,  1., -1.],\n",
      "       [ 1.,  1.,  1., ...,  1.,  1., -1.]]), 'energy': -0.8516, 'magnetization': -0.0184, 'correlation_length': 0.90859551979391, 'correlation_function': array([ 0.99966144,  0.42546144,  0.28006144, ..., -0.00173856,\n",
      "        0.00766144,  0.00766144]), 'distances': array([ 0.        ,  1.        ,  1.41421356, ..., 69.3108938 ,\n",
      "       70.00714249, 70.71067812])}\n",
      "{'configuration': array([[ 1., -1., -1., ...,  1., -1.,  1.],\n",
      "       [ 1., -1., -1., ...,  1.,  1.,  1.],\n",
      "       [ 1.,  1.,  1., ..., -1., -1.,  1.],\n",
      "       ...,\n",
      "       [ 1., -1., -1., ...,  1.,  1., -1.],\n",
      "       [-1., -1., -1., ..., -1., -1., -1.],\n",
      "       [ 1., -1., -1., ...,  1.,  1., -1.]]), 'energy': -0.9144, 'magnetization': -0.0396, 'correlation_length': 1.075231750121602, 'correlation_function': array([ 0.99843184,  0.45563184,  0.31923184, ..., -0.00316816,\n",
      "       -0.00116816, -0.00116816]), 'distances': array([ 0.        ,  1.        ,  1.41421356, ..., 69.3108938 ,\n",
      "       70.00714249, 70.71067812])}\n",
      "{'configuration': array([[ 1.,  1.,  1., ...,  1.,  1.,  1.],\n",
      "       [ 1.,  1., -1., ...,  1.,  1.,  1.],\n",
      "       [ 1.,  1.,  1., ...,  1.,  1.,  1.],\n",
      "       ...,\n",
      "       [-1., -1.,  1., ..., -1., -1., -1.],\n",
      "       [-1.,  1.,  1., ..., -1.,  1., -1.],\n",
      "       [ 1.,  1.,  1., ..., -1.,  1.,  1.]]), 'energy': -0.9924, 'magnetization': 0.0276, 'correlation_length': 1.6969419958084895, 'correlation_function': array([ 0.99923824,  0.49543824,  0.37283824, ..., -0.01336176,\n",
      "       -0.00776176, -0.00776176]), 'distances': array([ 0.        ,  1.        ,  1.41421356, ..., 69.3108938 ,\n",
      "       70.00714249, 70.71067812])}\n",
      "{'configuration': array([[ 1., -1., -1., ...,  1.,  1.,  1.],\n",
      "       [ 1., -1., -1., ..., -1.,  1.,  1.],\n",
      "       [ 1., -1.,  1., ...,  1.,  1.,  1.],\n",
      "       ...,\n",
      "       [ 1., -1., -1., ..., -1., -1., -1.],\n",
      "       [-1., -1., -1., ...,  1., -1., -1.],\n",
      "       [ 1.,  1., -1., ...,  1., -1.,  1.]]), 'energy': -1.028, 'magnetization': -0.0102, 'correlation_length': 1.6454506307283436, 'correlation_function': array([0.99989596, 0.51389596, 0.37449596, ..., 0.01709596, 0.02009596,\n",
      "       0.02009596]), 'distances': array([ 0.        ,  1.        ,  1.41421356, ..., 69.3108938 ,\n",
      "       70.00714249, 70.71067812])}\n",
      "{'configuration': array([[-1., -1., -1., ..., -1., -1., -1.],\n",
      "       [-1., -1., -1., ..., -1., -1., -1.],\n",
      "       [-1., -1., -1., ..., -1., -1., -1.],\n",
      "       ...,\n",
      "       [ 1.,  1.,  1., ..., -1.,  1.,  1.],\n",
      "       [-1., -1., -1., ..., -1.,  1., -1.],\n",
      "       [-1., -1., -1., ...,  1.,  1., -1.]]), 'energy': -1.1132, 'magnetization': -0.1054, 'correlation_length': 3.194651919891905, 'correlation_function': array([0.98889084, 0.54549084, 0.43089084, ..., 0.00649084, 0.00329084,\n",
      "       0.00329084]), 'distances': array([ 0.        ,  1.        ,  1.41421356, ..., 69.3108938 ,\n",
      "       70.00714249, 70.71067812])}\n",
      "{'configuration': array([[-1., -1., -1., ...,  1., -1., -1.],\n",
      "       [-1., -1., -1., ...,  1.,  1., -1.],\n",
      "       [-1., -1., -1., ...,  1.,  1., -1.],\n",
      "       ...,\n",
      "       [-1., -1., -1., ..., -1., -1., -1.],\n",
      "       [-1., -1., -1., ...,  1., -1., -1.],\n",
      "       [-1., -1., -1., ..., -1., -1., -1.]]), 'energy': -1.2044, 'magnetization': -0.0708, 'correlation_length': 4.619023866063144, 'correlation_function': array([ 0.99498736,  0.59718736,  0.48798736, ...,  0.00138736,\n",
      "       -0.00321264, -0.00321264]), 'distances': array([ 0.        ,  1.        ,  1.41421356, ..., 69.3108938 ,\n",
      "       70.00714249, 70.71067812])}\n",
      "{'configuration': array([[-1., -1., -1., ...,  1.,  1., -1.],\n",
      "       [ 1., -1., -1., ...,  1., -1.,  1.],\n",
      "       [-1., -1., -1., ..., -1., -1., -1.],\n",
      "       ...,\n",
      "       [-1., -1., -1., ...,  1., -1., -1.],\n",
      "       [-1.,  1., -1., ..., -1.,  1., -1.],\n",
      "       [-1.,  1., -1., ...,  1.,  1., -1.]]), 'energy': -1.3232, 'magnetization': 0.5054, 'correlation_length': 5.467156420776763, 'correlation_function': array([ 0.74457084,  0.40617084,  0.32597084, ..., -0.03782916,\n",
      "       -0.03682916, -0.03682916]), 'distances': array([ 0.        ,  1.        ,  1.41421356, ..., 69.3108938 ,\n",
      "       70.00714249, 70.71067812])}\n",
      "{'configuration': array([[ 1.,  1.,  1., ...,  1.,  1.,  1.],\n",
      "       [ 1.,  1.,  1., ...,  1.,  1.,  1.],\n",
      "       [ 1.,  1.,  1., ..., -1.,  1.,  1.],\n",
      "       ...,\n",
      "       [ 1.,  1.,  1., ...,  1.,  1.,  1.],\n",
      "       [ 1.,  1.,  1., ...,  1.,  1.,  1.],\n",
      "       [ 1.,  1.,  1., ...,  1.,  1.,  1.]]), 'energy': -1.5336, 'magnetization': 0.7786, 'correlation_length': 1.3759045240971657, 'correlation_function': array([0.39378204, 0.16058204, 0.11078204, ..., 0.00798204, 0.01158204,\n",
      "       0.01158204]), 'distances': array([ 0.        ,  1.        ,  1.41421356, ..., 69.3108938 ,\n",
      "       70.00714249, 70.71067812])}\n",
      "{'configuration': array([[1., 1., 1., ..., 1., 1., 1.],\n",
      "       [1., 1., 1., ..., 1., 1., 1.],\n",
      "       [1., 1., 1., ..., 1., 1., 1.],\n",
      "       ...,\n",
      "       [1., 1., 1., ..., 1., 1., 1.],\n",
      "       [1., 1., 1., ..., 1., 1., 1.],\n",
      "       [1., 1., 1., ..., 1., 1., 1.]]), 'energy': -1.6024, 'magnetization': 0.74, 'correlation_length': 4.469583321276246, 'correlation_function': array([ 0.4524,  0.2536,  0.2162, ..., -0.0088, -0.0052, -0.0052]), 'distances': array([ 0.        ,  1.        ,  1.41421356, ..., 69.3108938 ,\n",
      "       70.00714249, 70.71067812])}\n",
      "{'configuration': array([[1., 1., 1., ..., 1., 1., 1.],\n",
      "       [1., 1., 1., ..., 1., 1., 1.],\n",
      "       [1., 1., 1., ..., 1., 1., 1.],\n",
      "       ...,\n",
      "       [1., 1., 1., ..., 1., 1., 1.],\n",
      "       [1., 1., 1., ..., 1., 1., 1.],\n",
      "       [1., 1., 1., ..., 1., 1., 1.]]), 'energy': -1.7396, 'magnetization': 0.8992, 'correlation_length': 0.8089284793969497, 'correlation_function': array([ 0.19143936,  0.06123936,  0.04103936, ..., -0.00116064,\n",
      "        0.00123936,  0.00123936]), 'distances': array([ 0.        ,  1.        ,  1.41421356, ..., 69.3108938 ,\n",
      "       70.00714249, 70.71067812])}\n",
      "{'configuration': array([[ 1.,  1.,  1., ...,  1.,  1.,  1.],\n",
      "       [ 1.,  1.,  1., ...,  1.,  1.,  1.],\n",
      "       [ 1.,  1.,  1., ...,  1.,  1.,  1.],\n",
      "       ...,\n",
      "       [ 1., -1.,  1., ...,  1.,  1.,  1.],\n",
      "       [ 1.,  1.,  1., ...,  1.,  1.,  1.],\n",
      "       [ 1.,  1.,  1., ...,  1.,  1.,  1.]]), 'energy': -1.8112, 'magnetization': 0.9414, 'correlation_length': 0.26894047852781927, 'correlation_function': array([0.11376604, 0.01936604, 0.00456604, ..., 0.00116604, 0.00036604,\n",
      "       0.00036604]), 'distances': array([ 0.        ,  1.        ,  1.41421356, ..., 69.3108938 ,\n",
      "       70.00714249, 70.71067812])}\n",
      "{'configuration': array([[1., 1., 1., ..., 1., 1., 1.],\n",
      "       [1., 1., 1., ..., 1., 1., 1.],\n",
      "       [1., 1., 1., ..., 1., 1., 1.],\n",
      "       ...,\n",
      "       [1., 1., 1., ..., 1., 1., 1.],\n",
      "       [1., 1., 1., ..., 1., 1., 1.],\n",
      "       [1., 1., 1., ..., 1., 1., 1.]]), 'energy': -1.8316, 'magnetization': 0.9456, 'correlation_length': 0.5295926509573639, 'correlation_function': array([1.0584064e-01, 2.1640640e-02, 8.4406400e-03, ..., 2.4064000e-04,\n",
      "       4.0640000e-05, 4.0640000e-05]), 'distances': array([ 0.        ,  1.        ,  1.41421356, ..., 69.3108938 ,\n",
      "       70.00714249, 70.71067812])}\n",
      "{'configuration': array([[1., 1., 1., ..., 1., 1., 1.],\n",
      "       [1., 1., 1., ..., 1., 1., 1.],\n",
      "       [1., 1., 1., ..., 1., 1., 1.],\n",
      "       ...,\n",
      "       [1., 1., 1., ..., 1., 1., 1.],\n",
      "       [1., 1., 1., ..., 1., 1., 1.],\n",
      "       [1., 1., 1., ..., 1., 1., 1.]]), 'energy': -1.9232, 'magnetization': 0.9782, 'correlation_length': 0.2837946971889274, 'correlation_function': array([ 0.04312476,  0.00472476,  0.00172476, ...,  0.00052476,\n",
      "       -0.00047524, -0.00047524]), 'distances': array([ 0.        ,  1.        ,  1.41421356, ..., 69.3108938 ,\n",
      "       70.00714249, 70.71067812])}\n",
      "{'configuration': array([[1., 1., 1., ..., 1., 1., 1.],\n",
      "       [1., 1., 1., ..., 1., 1., 1.],\n",
      "       [1., 1., 1., ..., 1., 1., 1.],\n",
      "       ...,\n",
      "       [1., 1., 1., ..., 1., 1., 1.],\n",
      "       [1., 1., 1., ..., 1., 1., 1.],\n",
      "       [1., 1., 1., ..., 1., 1., 1.]]), 'energy': -1.9228, 'magnetization': 0.9778, 'correlation_length': 0.27220964358038907, 'correlation_function': array([0.04390716, 0.00530716, 0.00070716, ..., 0.00010716, 0.00010716,\n",
      "       0.00010716]), 'distances': array([ 0.        ,  1.        ,  1.41421356, ..., 69.3108938 ,\n",
      "       70.00714249, 70.71067812])}\n",
      "{'configuration': array([[1., 1., 1., ..., 1., 1., 1.],\n",
      "       [1., 1., 1., ..., 1., 1., 1.],\n",
      "       [1., 1., 1., ..., 1., 1., 1.],\n",
      "       ...,\n",
      "       [1., 1., 1., ..., 1., 1., 1.],\n",
      "       [1., 1., 1., ..., 1., 1., 1.],\n",
      "       [1., 1., 1., ..., 1., 1., 1.]]), 'energy': -1.9548, 'magnetization': 0.9876, 'correlation_length': 0.13838636253693515, 'correlation_function': array([ 2.464624e-02,  2.046240e-03,  4.462400e-04, ...,  4.624000e-05,\n",
      "       -1.537600e-04, -1.537600e-04]), 'distances': array([ 0.        ,  1.        ,  1.41421356, ..., 69.3108938 ,\n",
      "       70.00714249, 70.71067812])}\n"
     ]
    },
    {
     "data": {
      "image/png": "[encoded data removed]",
      "text/plain": [
       "<Figure size 432x288 with 1 Axes>"
      ]
     },
     "metadata": {
      "needs_background": "light"
     },
     "output_type": "display_data"
    }
   ],
   "source": [
    "for i in np.arange(pkl_files.size-2):\n",
    "    plt.scatter(temperature[i],pkl_files[i]['correlation_length'])\n",
    "    print(pkl_files[i])\n"
   ]
  },
  {
   "cell_type": "code",
   "execution_count": 11,
   "metadata": {},
   "outputs": [],
   "source": [
    "distances = pkl_files[0][\"distances\"]"
   ]
  },
  {
   "cell_type": "code",
   "execution_count": 12,
   "metadata": {},
   "outputs": [],
   "source": [
    "def get_cor_len(data_cut, distance_cut):\n",
    "    correlation_negative_check = np.sum(data_cut* \\\n",
    "                (distance_cut**2))\n",
    "    correlation_zero_check = np.sum(6*data_cut)\n",
    "    if correlation_zero_check == 0:\n",
    "        correlation_length = 0\n",
    "    elif correlation_negative_check/correlation_zero_check<0:\n",
    "        correlation_length = 0\n",
    "    else:\n",
    "        correlation_length = np.sqrt(correlation_negative_check/correlation_zero_check)\n",
    "    return correlation_length"
   ]
  },
  {
   "cell_type": "code",
   "execution_count": 13,
   "metadata": {},
   "outputs": [],
   "source": [
    "def get_index(data):\n",
    "    for i in np.arange(data.size):\n",
    "        if data[i] < 0:\n",
    "            my_index = i\n",
    "            break\n",
    "    return my_index\n",
    "\n",
    "def data2cut(data,my_index):\n",
    "    return data[0:my_index]\n",
    "\n",
    "def distance2cut(distance,my_index):\n",
    "    return distance[0:my_index]"
   ]
  },
  {
   "cell_type": "code",
   "execution_count": 14,
   "metadata": {},
   "outputs": [
    {
     "data": {
      "text/plain": [
       "array([1.1, 1.2, 1.3, 1.4, 1.5, 1.6, 1.7, 1.8, 1.9, 2. , 2.1, 2.2, 2.3,\n",
       "       2.4, 2.5, 2.6, 2.7, 2.8, 2.9, 3. , 3.1, 3.2, 3.3, 3.4, 3.5, 3.6,\n",
       "       3.7, 3.8, 3.9, 4. ])"
      ]
     },
     "execution_count": 14,
     "metadata": {},
     "output_type": "execute_result"
    }
   ],
   "source": [
    "temps"
   ]
  },
  {
   "cell_type": "code",
   "execution_count": 15,
   "metadata": {
    "scrolled": true
   },
   "outputs": [
    {
     "data": {
      "text/plain": [
       "[<matplotlib.lines.Line2D at 0x7fe9b06fe610>]"
      ]
     },
     "execution_count": 15,
     "metadata": {},
     "output_type": "execute_result"
    },
    {
     "data": {
      "image/png": "[encoded data removed]",
      "text/plain": [
       "<Figure size 432x288 with 1 Axes>"
      ]
     },
     "metadata": {
      "needs_background": "light"
     },
     "output_type": "display_data"
    }
   ],
   "source": [
    "distance = pkl_files[0]['distances']\n",
    "corr_length = np.zeros(temps.size)\n",
    "\n",
    "for i in np.arange(temps.size):\n",
    "    my_index = get_index(pkl_files[i]['correlation_function'])\n",
    "    data_cut = data2cut(pkl_files[i]['correlation_function'],my_index)\n",
    "    distance_cut = distance2cut(distance,my_index)\n",
    "    corr_length[i] = get_cor_len(data_cut,distance_cut)\n",
    "plt.plot(temps,corr_length,linestyle='--', marker='o')    "
   ]
  },
  {
   "cell_type": "code",
   "execution_count": 16,
   "metadata": {
    "scrolled": true
   },
   "outputs": [
    {
     "data": {
      "text/plain": [
       "{'configuration': array([[ 1.,  1.,  1., ...,  1.,  1.,  1.],\n",
       "        [ 1.,  1.,  1., ..., -1.,  1.,  1.],\n",
       "        [ 1., -1.,  1., ..., -1., -1., -1.],\n",
       "        ...,\n",
       "        [ 1.,  1.,  1., ...,  1.,  1.,  1.],\n",
       "        [ 1.,  1.,  1., ...,  1.,  1.,  1.],\n",
       "        [ 1.,  1.,  1., ...,  1.,  1., -1.]]),\n",
       " 'energy': -1.3752,\n",
       " 'magnetization': 0.0604,\n",
       " 'correlation_length': 2.1347745021920774,\n",
       " 'correlation_function': array([0.99635184, 0.68395184, 0.60635184, ..., 0.02995184, 0.02955184,\n",
       "        0.02955184]),\n",
       " 'distances': array([ 0.        ,  1.        ,  1.41421356, ..., 69.3108938 ,\n",
       "        70.00714249, 70.71067812])}"
      ]
     },
     "execution_count": 16,
     "metadata": {},
     "output_type": "execute_result"
    }
   ],
   "source": [
    "pkl_files[12]"
   ]
  },
  {
   "cell_type": "code",
   "execution_count": 17,
   "metadata": {
    "scrolled": true
   },
   "outputs": [
    {
     "data": {
      "image/png": "[encoded data removed]",
      "text/plain": [
       "<Figure size 432x288 with 1 Axes>"
      ]
     },
     "metadata": {
      "needs_background": "light"
     },
     "output_type": "display_data"
    }
   ],
   "source": [
    "for i in np.arange(pkl_files.size):\n",
    "    plt.scatter(temps[i],np.abs(pkl_files[i]['magnetization']))\n",
    "\n"
   ]
  },
  {
   "cell_type": "code",
   "execution_count": null,
   "metadata": {},
   "outputs": [],
   "source": []
  }
 ],
 "metadata": {
  "kernelspec": {
   "display_name": "Python 3",
   "language": "python",
   "name": "python3"
  },
  "language_info": {
   "codemirror_mode": {
    "name": "ipython",
    "version": 3
   },
   "file_extension": ".py",
   "mimetype": "text/x-python",
   "name": "python",
   "nbconvert_exporter": "python",
   "pygments_lexer": "ipython3",
   "version": "3.7.4"
  }
 },
 "nbformat": 4,
 "nbformat_minor": 4
}
