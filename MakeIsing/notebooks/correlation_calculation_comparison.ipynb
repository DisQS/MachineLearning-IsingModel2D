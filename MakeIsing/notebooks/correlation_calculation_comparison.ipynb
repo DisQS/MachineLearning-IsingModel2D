{
 "cells": [
  {
   "cell_type": "code",
   "execution_count": 1,
   "metadata": {},
   "outputs": [],
   "source": [
    "import pickle as pkl\n",
    "import os\n",
    "import numpy as np\n",
    "import matplotlib.pyplot as plt\n",
    "from scipy.optimize import curve_fit\n"
   ]
  },
  {
   "cell_type": "code",
   "execution_count": 76,
   "metadata": {
    "scrolled": false
   },
   "outputs": [
    {
     "name": "stdout",
     "output_type": "stream",
     "text": [
      "/home/e-bcivitci/Documents/correlation/MakeIsing/SQ_L_16_J_1.00_h_0.00_T_3000\r\n"
     ]
    }
   ],
   "source": [
    "!pwd"
   ]
  },
  {
   "cell_type": "code",
   "execution_count": 77,
   "metadata": {
    "scrolled": true
   },
   "outputs": [
    {
     "name": "stdout",
     "output_type": "stream",
     "text": [
      "SQ_L_16_J_1.00_h_0.00_T_3000_s_11234567_n_0_correlation_function.txt\r\n",
      "SQ_L_16_J_1.00_h_0.00_T_3000_s_11234567_n_0.pkl\r\n",
      "SQ_L_16_J_1.00_h_0.00_T_3000_s_11234567_n_0.png\r\n",
      "SQ_L_16_J_1.00_h_0.00_T_3000_s_11234567_n_0.txt\r\n",
      "SQ_L_16_J_1.00_h_0.00_T_3000_s_11234567_n_100_correlation_function.txt\r\n",
      "SQ_L_16_J_1.00_h_0.00_T_3000_s_11234567_n_100.pkl\r\n",
      "SQ_L_16_J_1.00_h_0.00_T_3000_s_11234567_n_100.png\r\n",
      "SQ_L_16_J_1.00_h_0.00_T_3000_s_11234567_n_100.txt\r\n",
      "SQ_L_16_J_1.00_h_0.00_T_3000_s_11234567_n_150_correlation_function.txt\r\n",
      "SQ_L_16_J_1.00_h_0.00_T_3000_s_11234567_n_150.pkl\r\n",
      "SQ_L_16_J_1.00_h_0.00_T_3000_s_11234567_n_150.png\r\n",
      "SQ_L_16_J_1.00_h_0.00_T_3000_s_11234567_n_150.txt\r\n",
      "SQ_L_16_J_1.00_h_0.00_T_3000_s_11234567_n_200_correlation_function.txt\r\n",
      "SQ_L_16_J_1.00_h_0.00_T_3000_s_11234567_n_200.pkl\r\n",
      "SQ_L_16_J_1.00_h_0.00_T_3000_s_11234567_n_200.png\r\n",
      "SQ_L_16_J_1.00_h_0.00_T_3000_s_11234567_n_200.txt\r\n",
      "SQ_L_16_J_1.00_h_0.00_T_3000_s_11234567_n_50_correlation_function.txt\r\n",
      "SQ_L_16_J_1.00_h_0.00_T_3000_s_11234567_n_50.pkl\r\n",
      "SQ_L_16_J_1.00_h_0.00_T_3000_s_11234567_n_50.png\r\n",
      "SQ_L_16_J_1.00_h_0.00_T_3000_s_11234567_n_50.txt\r\n"
     ]
    }
   ],
   "source": [
    "!ls"
   ]
  },
  {
   "cell_type": "code",
   "execution_count": 30,
   "metadata": {},
   "outputs": [],
   "source": [
    "os.chdir('SQ_L_16_J_1.00_h_0.00_T_3000')"
   ]
  },
  {
   "cell_type": "code",
   "execution_count": 78,
   "metadata": {},
   "outputs": [],
   "source": [
    "data_sample = pkl.load( open( \"SQ_L_16_J_1.00_h_0.00_T_3000_s_11234567_n_200.pkl\", \"rb\" ) )"
   ]
  },
  {
   "cell_type": "code",
   "execution_count": 79,
   "metadata": {},
   "outputs": [
    {
     "data": {
      "text/plain": [
       "dict_keys(['configuration', 'energy', 'magnetization', 'correlation_length', 'correlation_function'])"
      ]
     },
     "execution_count": 79,
     "metadata": {},
     "output_type": "execute_result"
    }
   ],
   "source": [
    "data_sample.keys()"
   ]
  },
  {
   "cell_type": "code",
   "execution_count": 80,
   "metadata": {},
   "outputs": [
    {
     "data": {
      "text/plain": [
       "array([ 0.94866943,  0.33929443,  0.08148193,  0.04241943,  0.05804443,\n",
       "       -0.01226807,  0.01116943,  0.01116943,  0.01116943,  0.01116943,\n",
       "        0.01116943, -0.01226807,  0.05804443,  0.04241943,  0.08148193,\n",
       "        0.33929443])"
      ]
     },
     "execution_count": 80,
     "metadata": {},
     "output_type": "execute_result"
    }
   ],
   "source": [
    "data_sample['correlation_function']"
   ]
  },
  {
   "cell_type": "code",
   "execution_count": 81,
   "metadata": {},
   "outputs": [
    {
     "data": {
      "text/plain": [
       "7.431986801162317"
      ]
     },
     "execution_count": 81,
     "metadata": {},
     "output_type": "execute_result"
    }
   ],
   "source": [
    "data_sample['correlation_length']"
   ]
  },
  {
   "cell_type": "code",
   "execution_count": 82,
   "metadata": {},
   "outputs": [],
   "source": [
    "def func(r, xi):\n",
    "    return np.exp(-r / xi)\n",
    "\n",
    "r = np.arange(16)\n",
    "corr_func = data_sample['correlation_function']\n"
   ]
  },
  {
   "cell_type": "code",
   "execution_count": 83,
   "metadata": {},
   "outputs": [],
   "source": [
    "popt, pcov = curve_fit(func, r, corr_func)"
   ]
  },
  {
   "cell_type": "code",
   "execution_count": 88,
   "metadata": {
    "scrolled": true
   },
   "outputs": [],
   "source": [
    "xi = popt[0]"
   ]
  },
  {
   "cell_type": "code",
   "execution_count": 89,
   "metadata": {},
   "outputs": [
    {
     "name": "stdout",
     "output_type": "stream",
     "text": [
      "xi = 0.901012548889974\n"
     ]
    }
   ],
   "source": [
    "print(\"xi = %s\" % xi)"
   ]
  },
  {
   "cell_type": "code",
   "execution_count": 90,
   "metadata": {},
   "outputs": [
    {
     "data": {
      "text/plain": [
       "[<matplotlib.lines.Line2D at 0x7fa706c68fd0>]"
      ]
     },
     "execution_count": 90,
     "metadata": {},
     "output_type": "execute_result"
    },
    {
     "data": {
      "image/png": "[encoded data removed]",
      "text/plain": [
       "<Figure size 432x288 with 1 Axes>"
      ]
     },
     "metadata": {
      "needs_background": "light"
     },
     "output_type": "display_data"
    }
   ],
   "source": [
    "plt.plot(r, func(r, *popt), label=\"Fitted Curve\") #same as line above \\/\n",
    "plt.plot(r,corr_func)"
   ]
  },
  {
   "cell_type": "code",
   "execution_count": 91,
   "metadata": {},
   "outputs": [
    {
     "name": "stdout",
     "output_type": "stream",
     "text": [
      "Value of the correlation length computed using the formula:  7.431986801162317\n",
      "Value of the correlation length computed by fitting the exponential:  0.901012548889974\n"
     ]
    }
   ],
   "source": [
    "print('Value of the correlation length computed using the formula: ', data_sample['correlation_length'])\n",
    "print('Value of the correlation length computed by fitting the exponential: ', xi)"
   ]
  }
 ],
 "metadata": {
  "kernelspec": {
   "display_name": "Python 3",
   "language": "python",
   "name": "python3"
  },
  "language_info": {
   "codemirror_mode": {
    "name": "ipython",
    "version": 3
   },
   "file_extension": ".py",
   "mimetype": "text/x-python",
   "name": "python",
   "nbconvert_exporter": "python",
   "pygments_lexer": "ipython3",
   "version": "3.8.3"
  }
 },
 "nbformat": 4,
 "nbformat_minor": 4
}
