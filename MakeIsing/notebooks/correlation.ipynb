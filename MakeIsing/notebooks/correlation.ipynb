{
 "cells": [
  {
   "cell_type": "code",
   "execution_count": 1,
   "metadata": {},
   "outputs": [],
   "source": [
    "# SCRTP: module load Anaconda3\n",
    "# run as\n",
    "# python ising_data_generate.py 11234567 16 3.0 2.0 -0.5 5\n",
    "\n",
    "import numpy as np\n",
    "import matplotlib.pyplot as plt\n",
    "import random\n",
    "import pickle as pkl\n",
    "import imageio\n",
    "import time\n",
    "import os\n",
    "import sys\n",
    "\n",
    "###############################################################################\n",
    "###############################################################################\n",
    "# CLASS DEFINITION\n",
    "class IsingLattice:\n",
    "    \n",
    "###############################################################################\n",
    "    # Initializer. Parameter n corresponds to the lattice size. \n",
    "    def __init__(self,lattice_size,J,h):\n",
    "        \n",
    "        # In order to easily access the parameters: \n",
    "        self.lattice_size = lattice_size\n",
    "        self.num_sites = lattice_size*lattice_size\n",
    "        self.J = J\n",
    "        self.h = h\n",
    "        \n",
    "        # We randomly initialize the lattice with 0's and 1's\n",
    "        lattice_state = np.zeros((self.lattice_size,self.lattice_size))\n",
    "        for i in np.arange(self.lattice_size):\n",
    "            for j in np.arange(self.lattice_size):\n",
    "                lattice_state[i][j] = random.getrandbits(1)\n",
    "\n",
    "        lattice_state = np.where(lattice_state==0, -1, lattice_state)\n",
    "        \n",
    "        # We store the configuration \n",
    "        self.lattice_state = lattice_state\n",
    "    \n",
    "    # THE METHODS \n",
    "\n",
    "###############################################################################\n",
    "    # Plot function. This will help us easily see the lattice configuration.\n",
    "    def plot_lattice(self, print_info=False): \n",
    "        # print_info is Boolean. If it is true then we print info.\n",
    "        \n",
    "        plt.figure()\n",
    "        plt.imshow(self.lattice_state)\n",
    "        plt.show()\n",
    "        if print_info:\n",
    "            self.print_info()\n",
    "    \n",
    "###############################################################################\n",
    "    # Now we define print_info() method. \n",
    "    # It will print all the information about the lattice.\n",
    "    def print_info(self):\n",
    "        \n",
    "        print(\"Lattice size: \", self.lattice_size , \\\n",
    "            \"x\", self.lattice_size, \". J: \", self.J, \" h: \", self.h )\n",
    "    \n",
    "###############################################################################\n",
    "    # A spin flipper at site (i,j) method\n",
    "    def flip_spin(self,i,j):\n",
    "        self.lattice_state[i,j] *= -1\n",
    "        \n",
    "###############################################################################\n",
    "    # Calculating energy of one spin at site (i,j)\n",
    "    def spin_energy(self,i,j):\n",
    "        \n",
    "        # Spin at (i,j)\n",
    "        spin_ij = self.lattice_state[i,j]\n",
    "        \n",
    "        # Now we need to deal with the boundary spins. \n",
    "        # We apply periodic boundary conditions.  \n",
    "        sum_neighbouring_spins = \\\n",
    "            self.lattice_state[(i+1)%self.lattice_size, j] + \\\n",
    "            self.lattice_state[i, (j+1)%self.lattice_size] + \\\n",
    "            self.lattice_state[(i-1)%self.lattice_size, j] + \\\n",
    "            self.lattice_state[i, (j-1)%self.lattice_size]\n",
    "        \n",
    "        # We calculate the energy terms for site \n",
    "        interaction_term = (- self.J * spin_ij * sum_neighbouring_spins)\n",
    "        \n",
    "        # This part is added so that in case \n",
    "        # there is no external magnetic field, i.e. h = 0\n",
    "        # then we do not need the computer to do the computation\n",
    "        # for the magnetic term. \n",
    "        if self.h == 0:\n",
    "            return interaction_term\n",
    "        else:\n",
    "            magnetic_field_term = - (self.h * spin_ij)\n",
    "            return magnetic_field_term + interaction_term\n",
    "    \n",
    "###############################################################################\n",
    "    # Calculating Total Lattice Energy\n",
    "    def energy(self):\n",
    "        \n",
    "        # Initialize energy as 0.\n",
    "        E = 0.0\n",
    "        \n",
    "        # We iterate through the lattice\n",
    "        for i in np.arange(self.lattice_size):\n",
    "            for j in np.arange(self.lattice_size):\n",
    "                E = E + self.spin_energy(i,j)\n",
    "                \n",
    "        # But we counted neighbours twice here.\n",
    "        #  So we need to correctly return. \n",
    "        # We divide by two \n",
    "        E = E / (2.0) / self.num_sites\n",
    "        if self.h==0:\n",
    "            return E\n",
    "        else: \n",
    "            # We add the magnetic field term |IS THERE A 1/2 FACTOR HERE?\n",
    "            E = (E - self.h * np.sum(self.lattice_state)) / self.num_sites\n",
    "            return E\n",
    "    \n",
    "###############################################################################\n",
    "    # Net magnetization\n",
    "    def magnetization(self):\n",
    "        return  np.sum(self.lattice_state)/ (self.num_sites)\n",
    "        \n",
    "###############################################################################\n",
    " # Correlation Function \n",
    "    '''   \n",
    "    def correlation(self,r):\n",
    "    \n",
    "        # r is the distance of the two spins of which the correlation function\n",
    "        # is calculated\n",
    "        correlation_sum = 0\n",
    "        for i in np.arange(self.lattice_size):\n",
    "            correlation = self.lattice_state[i,i]*self.lattice_state[i,(i-r)\\\n",
    "                            %self.lattice_size] + \\\n",
    "                        self.lattice_state[i,i]*self.lattice_state[i,(i+r)\\\n",
    "                            %self.lattice_size] + \\\n",
    "                        self.lattice_state[i,i]*self.lattice_state[(i-r)\\\n",
    "                            %self.lattice_size,i] + \\\n",
    "                        self.lattice_state[i,i]*self.lattice_state[(i+r)\\\n",
    "                            %self.lattice_size,i]\n",
    "            correlation_sum += correlation\n",
    "        return correlation_sum/(4*self.lattice_size)\n",
    "    '''\n",
    "    def correlation(self,r):\n",
    "        # r is the distance of the two spins of which the correlation function\n",
    "        # is calculated\n",
    "        \n",
    "        \n",
    "        correlation_sum = 0\n",
    "        for i in np.arange(self.lattice_size):\n",
    "            for j in np.arange(self.lattice_size):\n",
    "                correlation = self.lattice_state[i,j]*self.lattice_state[i,(j-r)\\\n",
    "                            %self.lattice_size] + \\\n",
    "                        self.lattice_state[i,j]*self.lattice_state[i,(j+r)\\\n",
    "                            %self.lattice_size] + \\\n",
    "                        self.lattice_state[i,j]*self.lattice_state[(i-r)\\\n",
    "                            %self.lattice_size,j] + \\\n",
    "                        self.lattice_state[i,j]*self.lattice_state[(i+r)\\\n",
    "                            %self.lattice_size,j]\n",
    "                correlation_sum += correlation\n",
    "        return correlation_sum/(4*self.num_sites)\n",
    "    \n",
    "###############################################################################\n",
    "\n",
    "    def correlation_function(self, plot=False):\n",
    "        \n",
    "        correlation_func = np.zeros(self.lattice_size)\n",
    "        for i in np.arange(self.lattice_size):\n",
    "            correlation_func[i] = self.correlation(i)\n",
    "        correlation_func -= self.magnetization()**2\n",
    "        if plot:\n",
    "            plt.plot(correlation_func)\n",
    "        return correlation_func\n",
    "\n",
    "###############################################################################        \n",
    "###############################################################################\n",
    "# END OF CLASS\n",
    "\n",
    "###############################################################################\n",
    "# Boltzmann constant is fixed to 1.\n",
    "def scan_lattice(ising_lattice, temperature):\n",
    "\n",
    "    for k in np.arange(ising_lattice.num_sites):\n",
    "        \n",
    "        # POWER OF 2 CASE\n",
    "        # We choose a random site\n",
    "        #lattice_size_power = int(np.log2(ising_lattice.lattice_size))\n",
    "        #i = random.getrandbits(lattice_size_power)\n",
    "        #j = random.getrandbits(lattice_size_power)\n",
    "\n",
    "        # RANDOM INT CASE        \n",
    "        # We choose a random site  \n",
    "        i = int(ising_lattice.lattice_size * random.random())      \n",
    "        j = int(ising_lattice.lattice_size * random.random())  \n",
    "\n",
    "        # We calculate the energy difference if we flip\n",
    "        energy_initial = ising_lattice.spin_energy(i,j)\n",
    "        ising_lattice.flip_spin(i,j)\n",
    "        energy_final = ising_lattice.spin_energy(i,j)\n",
    "        energy_change = energy_final - energy_initial\n",
    "        # For convenience we flip it back to the original\n",
    "        ising_lattice.flip_spin(i,j)\n",
    "        \n",
    "        # Then we should flip the spin\n",
    "        if temperature != 0:\n",
    "            if energy_change<=0 or \\\n",
    "                np.random.rand()<=np.exp(-energy_change/temperature):\n",
    "                # If the Metropolis Criteria holds, swap. \n",
    "                ising_lattice.flip_spin(i,j)\n",
    "\n",
    "###############################################################################\n",
    "def monte_carlo_simulation(ising_lattice,\\\n",
    "                           temperature, num_scans,\\\n",
    "                           num_scans_4_equilibrium, \\\n",
    "                           frequency_sweeps_to_collect_magnetization,\\\n",
    "                           plot_result = False,print_info=False):\n",
    "\n",
    "    start_time = time.time()\n",
    "    \n",
    "    # The first three arguments are self-explanatory. \n",
    "    # The last one is the number of scans we need to do\n",
    "    # Before we reach equilibrium. Therefore we do not\n",
    "    # need to collect data at these steps. \n",
    "    if print_info:\n",
    "        ising_lattice.print_info()\n",
    "    \n",
    "    # We start by collecting <E> and <m> data. In order to \n",
    "    # calculate these, we record energy and magnetization \n",
    "    # after we reach equilibrium.\n",
    "    \n",
    "    # The total number of records, both first and last point included\n",
    "    TOTAL_NUM_RECORDS = \\\n",
    "        int(num_scans/frequency_sweeps_to_collect_magnetization)+1\n",
    "    energy_records = np.zeros(TOTAL_NUM_RECORDS)\n",
    "    magnetization_records = np.zeros(TOTAL_NUM_RECORDS)\n",
    "    correlation_records = np.zeros([TOTAL_NUM_RECORDS,ising_lattice.lattice_size])\n",
    "    increment_records = 0\n",
    "    \n",
    "    # We will return this n-dimensional \n",
    "    lattice_configs = np.zeros((TOTAL_NUM_RECORDS,\\\n",
    "                               ising_lattice.lattice_size,\\\n",
    "                               ising_lattice.lattice_size))\n",
    "    # LOG feature\n",
    "    print(\" equilibrating to T=\", temperature)\n",
    "    for equ in np.arange(num_scans_4_equilibrium):\n",
    "        scan_lattice(ising_lattice,temperature)\n",
    "    # LOG feature\n",
    "    print(\" reached T=\", temperature)\n",
    "\n",
    "    for k in np.arange(num_scans+frequency_sweeps_to_collect_magnetization):\n",
    "        scan_lattice(ising_lattice, temperature)\n",
    "        if k%frequency_sweeps_to_collect_magnetization==0:\n",
    "            energy_records[increment_records] = ising_lattice.energy()\n",
    "            magnetization_records[increment_records] = \\\n",
    "                ising_lattice.magnetization()\n",
    "            lattice_configs[increment_records] = ising_lattice.lattice_state\n",
    "            correlation_records[increment_records] = \\\n",
    "                ising_lattice.correlation_function(True)\n",
    "            increment_records += 1\n",
    "            # LOG feature\n",
    "            print(\" \", temperature, increment_records)\n",
    "    \n",
    "    # Now we can get the <E> and <m>\n",
    "    print(\"For temperature= \", temperature, \"MC simulation is executed in: \", \\\n",
    "        \" %s seconds \" % round(time.time() - start_time,2))\n",
    "    \n",
    "    if plot_result:\n",
    "        ising_lattice.plot_lattice()\n",
    "    \n",
    "    return lattice_configs, energy_records, magnetization_records, correlation_records\n"
   ]
  },
  {
   "cell_type": "code",
   "execution_count": 2,
   "metadata": {},
   "outputs": [],
   "source": [
    "test = IsingLattice(50,1,0)"
   ]
  },
  {
   "cell_type": "code",
   "execution_count": 3,
   "metadata": {},
   "outputs": [
    {
     "name": "stdout",
     "output_type": "stream",
     "text": [
      " equilibrating to T= 2.5\n",
      " reached T= 2.5\n",
      "  2.5 1\n",
      "  2.5 2\n",
      "  2.5 3\n",
      "For temperature=  2.5 MC simulation is executed in:   38.95 seconds \n"
     ]
    },
    {
     "data": {
      "image/png": "[encoded data removed]",
      "text/plain": [
       "<Figure size 432x288 with 1 Axes>"
      ]
     },
     "metadata": {
      "needs_background": "light"
     },
     "output_type": "display_data"
    },
    {
     "data": {
      "image/png": "[encoded data removed]",
      "text/plain": [
       "<Figure size 432x288 with 1 Axes>"
      ]
     },
     "metadata": {
      "needs_background": "light"
     },
     "output_type": "display_data"
    }
   ],
   "source": [
    "test_lattice, mean_en, mean_m, corr = monte_carlo_simulation(test, 2.5, 1000, 1000, 500, True,False)"
   ]
  },
  {
   "cell_type": "code",
   "execution_count": 4,
   "metadata": {},
   "outputs": [
    {
     "name": "stdout",
     "output_type": "stream",
     "text": [
      " equilibrating to T= 25\n",
      " reached T= 25\n",
      "  25 1\n",
      "  25 2\n",
      "  25 3\n",
      "For temperature=  25 MC simulation is executed in:   36.84 seconds \n"
     ]
    },
    {
     "data": {
      "image/png": "[encoded data removed]",
      "text/plain": [
       "<Figure size 432x288 with 1 Axes>"
      ]
     },
     "metadata": {
      "needs_background": "light"
     },
     "output_type": "display_data"
    },
    {
     "data": {
      "image/png": "[encoded data removed]",
      "text/plain": [
       "<Figure size 432x288 with 1 Axes>"
      ]
     },
     "metadata": {
      "needs_background": "light"
     },
     "output_type": "display_data"
    }
   ],
   "source": [
    "test_lattice, mean_en, mean_m, corr = monte_carlo_simulation(test, 25, 1000, 1000, 500, True,False)"
   ]
  },
  {
   "cell_type": "code",
   "execution_count": 5,
   "metadata": {},
   "outputs": [
    {
     "name": "stdout",
     "output_type": "stream",
     "text": [
      " equilibrating to T= 1\n",
      " reached T= 1\n",
      "  1 1\n",
      "  1 2\n",
      "  1 3\n",
      "For temperature=  1 MC simulation is executed in:   40.8 seconds \n"
     ]
    },
    {
     "data": {
      "image/png": "[encoded data removed]",
      "text/plain": [
       "<Figure size 432x288 with 1 Axes>"
      ]
     },
     "metadata": {
      "needs_background": "light"
     },
     "output_type": "display_data"
    },
    {
     "data": {
      "image/png": "[encoded data removed]",
      "text/plain": [
       "<Figure size 432x288 with 1 Axes>"
      ]
     },
     "metadata": {
      "needs_background": "light"
     },
     "output_type": "display_data"
    }
   ],
   "source": [
    "test_lattice, mean_en, mean_m, corr = monte_carlo_simulation(test, 1, 1000, 1000, 500, True,False)"
   ]
  }
 ],
 "metadata": {
  "kernelspec": {
   "display_name": "Python 3",
   "language": "python",
   "name": "python3"
  },
  "language_info": {
   "codemirror_mode": {
    "name": "ipython",
    "version": 3
   },
   "file_extension": ".py",
   "mimetype": "text/x-python",
   "name": "python",
   "nbconvert_exporter": "python",
   "pygments_lexer": "ipython3",
   "version": "3.8.3"
  }
 },
 "nbformat": 4,
 "nbformat_minor": 4
}
