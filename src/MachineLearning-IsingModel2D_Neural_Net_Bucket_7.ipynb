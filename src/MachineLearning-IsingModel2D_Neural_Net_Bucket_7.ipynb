{
 "cells": [
  {
   "cell_type": "code",
   "execution_count": 1,
   "metadata": {
    "collapsed": true
   },
   "outputs": [
    {
     "name": "stderr",
     "output_type": "stream",
     "text": [
      "Using TensorFlow backend.\n",
      "/home/e-bcivitci/anaconda3/lib/python3.7/site-packages/tensorflow/python/framework/dtypes.py:516: FutureWarning: Passing (type, 1) or '1type' as a synonym of type is deprecated; in a future version of numpy, it will be understood as (type, (1,)) / '(1,)type'.\n",
      "  _np_qint8 = np.dtype([(\"qint8\", np.int8, 1)])\n",
      "/home/e-bcivitci/anaconda3/lib/python3.7/site-packages/tensorflow/python/framework/dtypes.py:517: FutureWarning: Passing (type, 1) or '1type' as a synonym of type is deprecated; in a future version of numpy, it will be understood as (type, (1,)) / '(1,)type'.\n",
      "  _np_quint8 = np.dtype([(\"quint8\", np.uint8, 1)])\n",
      "/home/e-bcivitci/anaconda3/lib/python3.7/site-packages/tensorflow/python/framework/dtypes.py:518: FutureWarning: Passing (type, 1) or '1type' as a synonym of type is deprecated; in a future version of numpy, it will be understood as (type, (1,)) / '(1,)type'.\n",
      "  _np_qint16 = np.dtype([(\"qint16\", np.int16, 1)])\n",
      "/home/e-bcivitci/anaconda3/lib/python3.7/site-packages/tensorflow/python/framework/dtypes.py:519: FutureWarning: Passing (type, 1) or '1type' as a synonym of type is deprecated; in a future version of numpy, it will be understood as (type, (1,)) / '(1,)type'.\n",
      "  _np_quint16 = np.dtype([(\"quint16\", np.uint16, 1)])\n",
      "/home/e-bcivitci/anaconda3/lib/python3.7/site-packages/tensorflow/python/framework/dtypes.py:520: FutureWarning: Passing (type, 1) or '1type' as a synonym of type is deprecated; in a future version of numpy, it will be understood as (type, (1,)) / '(1,)type'.\n",
      "  _np_qint32 = np.dtype([(\"qint32\", np.int32, 1)])\n",
      "/home/e-bcivitci/anaconda3/lib/python3.7/site-packages/tensorflow/python/framework/dtypes.py:525: FutureWarning: Passing (type, 1) or '1type' as a synonym of type is deprecated; in a future version of numpy, it will be understood as (type, (1,)) / '(1,)type'.\n",
      "  np_resource = np.dtype([(\"resource\", np.ubyte, 1)])\n",
      "/home/e-bcivitci/anaconda3/lib/python3.7/site-packages/tensorboard/compat/tensorflow_stub/dtypes.py:541: FutureWarning: Passing (type, 1) or '1type' as a synonym of type is deprecated; in a future version of numpy, it will be understood as (type, (1,)) / '(1,)type'.\n",
      "  _np_qint8 = np.dtype([(\"qint8\", np.int8, 1)])\n",
      "/home/e-bcivitci/anaconda3/lib/python3.7/site-packages/tensorboard/compat/tensorflow_stub/dtypes.py:542: FutureWarning: Passing (type, 1) or '1type' as a synonym of type is deprecated; in a future version of numpy, it will be understood as (type, (1,)) / '(1,)type'.\n",
      "  _np_quint8 = np.dtype([(\"quint8\", np.uint8, 1)])\n",
      "/home/e-bcivitci/anaconda3/lib/python3.7/site-packages/tensorboard/compat/tensorflow_stub/dtypes.py:543: FutureWarning: Passing (type, 1) or '1type' as a synonym of type is deprecated; in a future version of numpy, it will be understood as (type, (1,)) / '(1,)type'.\n",
      "  _np_qint16 = np.dtype([(\"qint16\", np.int16, 1)])\n",
      "/home/e-bcivitci/anaconda3/lib/python3.7/site-packages/tensorboard/compat/tensorflow_stub/dtypes.py:544: FutureWarning: Passing (type, 1) or '1type' as a synonym of type is deprecated; in a future version of numpy, it will be understood as (type, (1,)) / '(1,)type'.\n",
      "  _np_quint16 = np.dtype([(\"quint16\", np.uint16, 1)])\n",
      "/home/e-bcivitci/anaconda3/lib/python3.7/site-packages/tensorboard/compat/tensorflow_stub/dtypes.py:545: FutureWarning: Passing (type, 1) or '1type' as a synonym of type is deprecated; in a future version of numpy, it will be understood as (type, (1,)) / '(1,)type'.\n",
      "  _np_qint32 = np.dtype([(\"qint32\", np.int32, 1)])\n",
      "/home/e-bcivitci/anaconda3/lib/python3.7/site-packages/tensorboard/compat/tensorflow_stub/dtypes.py:550: FutureWarning: Passing (type, 1) or '1type' as a synonym of type is deprecated; in a future version of numpy, it will be understood as (type, (1,)) / '(1,)type'.\n",
      "  np_resource = np.dtype([(\"resource\", np.ubyte, 1)])\n"
     ]
    }
   ],
   "source": [
    "import numpy as np\n",
    "import matplotlib.pyplot as plt\n",
    "import random\n",
    "import pickle as pkl\n",
    "import imageio\n",
    "import time\n",
    "import os\n",
    "import keras\n",
    "from keras.preprocessing.image import ImageDataGenerator\n",
    "from keras import models \n",
    "from keras.models import Model\n",
    "\n",
    "from keras import layers\n",
    "from keras.utils import to_categorical \n",
    "from keras.optimizers import RMSprop, Adam\n",
    "from keras.layers import Conv2D, MaxPooling2D, BatchNormalization, Dense, Dropout, Flatten, GlobalAveragePooling2D\n",
    "from keras.models import load_model\n",
    "\n",
    "from sklearn.metrics import confusion_matrix\n",
    "import scikitplot as skplt"
   ]
  },
  {
   "cell_type": "code",
   "execution_count": 2,
   "metadata": {},
   "outputs": [],
   "source": [
    "def loss_function(mdl):\n",
    "    plt.plot(mdl.history['loss'])\n",
    "    plt.plot(mdl.history['val_loss'])\n",
    "    plt.title(\"Model Loss\")\n",
    "    plt.xlabel('Epochs')\n",
    "    plt.ylabel('Loss')\n",
    "    plt.legend(['Train', 'Test'])\n",
    "    plt.savefig(\"loss.png\")\n",
    "    plt.show()\n",
    "def accuracy(mdl):\n",
    "    plt.plot(mdl.history['accuracy'])\n",
    "    plt.plot(mdl.history['val_accuracy'])\n",
    "    plt.title('Model Accuracy')\n",
    "    plt.xlabel('Epochs')\n",
    "    plt.ylabel('Accuracy')\n",
    "    plt.legend(['Train','Test'])\n",
    "    plt.savefig(\"acc.png\")\n",
    "    plt.show()"
   ]
  },
  {
   "cell_type": "code",
   "execution_count": 3,
   "metadata": {},
   "outputs": [],
   "source": [
    "train_datagen = ImageDataGenerator(rescale=1./255,validation_split=0.2)\n",
    "test_datagen = ImageDataGenerator(rescale=1./255)"
   ]
  },
  {
   "cell_type": "code",
   "execution_count": 4,
   "metadata": {},
   "outputs": [],
   "source": [
    "data_dir = '/home/e-bcivitci/Desktop/data'\n",
    "lattice_size = 100\n",
    "batch_size = 16\n",
    "input_shape_img = (lattice_size,lattice_size,3)"
   ]
  },
  {
   "cell_type": "code",
   "execution_count": 5,
   "metadata": {},
   "outputs": [
    {
     "name": "stdout",
     "output_type": "stream",
     "text": [
      "Found 39280 images belonging to 7 classes.\n",
      "Found 9820 images belonging to 7 classes.\n"
     ]
    }
   ],
   "source": [
    "training_set = train_datagen.flow_from_directory(\n",
    "        data_dir,\n",
    "        subset='training',\n",
    "        target_size=(lattice_size, lattice_size),\n",
    "        batch_size = batch_size, \n",
    "        class_mode='categorical',\n",
    "        shuffle=True)\n",
    "validation_set= train_datagen.flow_from_directory(\n",
    "                                              data_dir,\n",
    "                                              subset='validation', \n",
    "                                              target_size = (lattice_size,lattice_size),\n",
    "                                              batch_size = batch_size, \n",
    "                                              class_mode='categorical',\n",
    "                                              shuffle=True)\n",
    "\n"
   ]
  },
  {
   "cell_type": "code",
   "execution_count": 6,
   "metadata": {},
   "outputs": [
    {
     "name": "stdout",
     "output_type": "stream",
     "text": [
      "{'T_1400-1000': 0, 'T_2000-1600': 1, 'T_2100-2060': 2, 'T_2250-2210': 3, 'T_2300-2260': 4, 'T_2500-2460': 5, 'T_4000-3600': 6}\n"
     ]
    }
   ],
   "source": [
    "print(validation_set.class_indices)\n"
   ]
  },
  {
   "cell_type": "code",
   "execution_count": 7,
   "metadata": {},
   "outputs": [],
   "source": [
    "num_class = 7"
   ]
  },
  {
   "cell_type": "code",
   "execution_count": 8,
   "metadata": {},
   "outputs": [
    {
     "data": {
      "image/png": "[encoded data removed]",
      "text/plain": [
       "<Figure size 720x360 with 6 Axes>"
      ]
     },
     "metadata": {
      "needs_background": "light"
     },
     "output_type": "display_data"
    }
   ],
   "source": [
    "plt.figure(figsize=(10,5))\n",
    "for i in range(6):\n",
    "    plt.subplot(2,3,i+1)\n",
    "    for x,y in validation_set:\n",
    "        plt.imshow(x[0],cmap='hsv')\n",
    "        #plt.title('y={}'.format(y[0]))\n",
    "        plt.axis('off')\n",
    "        break\n",
    "plt.tight_layout()\n",
    "plt.show()"
   ]
  },
  {
   "cell_type": "code",
   "execution_count": 9,
   "metadata": {},
   "outputs": [
    {
     "name": "stdout",
     "output_type": "stream",
     "text": [
      "WARNING:tensorflow:From /home/e-bcivitci/anaconda3/lib/python3.7/site-packages/keras/backend/tensorflow_backend.py:4070: The name tf.nn.max_pool is deprecated. Please use tf.nn.max_pool2d instead.\n",
      "\n"
     ]
    }
   ],
   "source": [
    "# As usual we start by creating a sequential model\n",
    "model_cnn = models.Sequential()\n",
    "\n",
    "# We add the convolutional layer\n",
    "model_cnn.add(Conv2D(filters=25, kernel_size=(3, 3), activation='relu', strides=1, padding='same', data_format='channels_last',input_shape=input_shape_img))\n",
    "# The batch normalization: helping to generalize the training\n",
    "model_cnn.add(BatchNormalization())\n",
    "# Another convolutional layer\n",
    "model_cnn.add(Conv2D(filters=25, kernel_size=(3, 3), activation='relu', strides=1, padding='same', data_format='channels_last'))\n",
    "# Batch normalization\n",
    "model_cnn.add(BatchNormalization())\n",
    "# Pooling for reducing overfitting\n",
    "model_cnn.add(MaxPooling2D(pool_size=(2, 2), strides=2, padding='same' ))\n",
    "# We drop some neurons that will again help avoid overfitting\n",
    "model_cnn.add(Dropout(0.25))\n",
    "\n",
    "# We will add another series of the above with greater number of filters\n",
    "model_cnn.add(Conv2D(filters=75, kernel_size=(3, 3), activation='relu', strides=1, padding='same', data_format='channels_last'))\n",
    "model_cnn.add(BatchNormalization())\n",
    "model_cnn.add(Conv2D(filters=75, kernel_size=(3, 3), strides=1, padding='same', activation='relu', data_format='channels_last'))\n",
    "model_cnn.add(BatchNormalization())\n",
    "model_cnn.add(MaxPooling2D(pool_size=(2, 2), padding='same', strides=2))\n",
    "model_cnn.add(Dropout(0.25))\n",
    "\n",
    "# Flatten will convert our results to 1D type\n",
    "model_cnn.add(Flatten())\n",
    "model_cnn.add(Dense(1000, activation='relu'))\n",
    "model_cnn.add(BatchNormalization())\n",
    "model_cnn.add(Dropout(0.25))\n",
    "model_cnn.add(Dense(500, activation='relu'))\n",
    "model_cnn.add(BatchNormalization())\n",
    "model_cnn.add(Dropout(0.5))\n",
    "# We have the final output layer\n",
    "model_cnn.add(Dense(num_class, activation='softmax'))"
   ]
  },
  {
   "cell_type": "code",
   "execution_count": 10,
   "metadata": {},
   "outputs": [
    {
     "name": "stdout",
     "output_type": "stream",
     "text": [
      "Model: \"sequential_1\"\n",
      "_________________________________________________________________\n",
      "Layer (type)                 Output Shape              Param #   \n",
      "=================================================================\n",
      "conv2d_1 (Conv2D)            (None, 100, 100, 25)      700       \n",
      "_________________________________________________________________\n",
      "batch_normalization_1 (Batch (None, 100, 100, 25)      100       \n",
      "_________________________________________________________________\n",
      "conv2d_2 (Conv2D)            (None, 100, 100, 25)      5650      \n",
      "_________________________________________________________________\n",
      "batch_normalization_2 (Batch (None, 100, 100, 25)      100       \n",
      "_________________________________________________________________\n",
      "max_pooling2d_1 (MaxPooling2 (None, 50, 50, 25)        0         \n",
      "_________________________________________________________________\n",
      "dropout_1 (Dropout)          (None, 50, 50, 25)        0         \n",
      "_________________________________________________________________\n",
      "conv2d_3 (Conv2D)            (None, 50, 50, 75)        16950     \n",
      "_________________________________________________________________\n",
      "batch_normalization_3 (Batch (None, 50, 50, 75)        300       \n",
      "_________________________________________________________________\n",
      "conv2d_4 (Conv2D)            (None, 50, 50, 75)        50700     \n",
      "_________________________________________________________________\n",
      "batch_normalization_4 (Batch (None, 50, 50, 75)        300       \n",
      "_________________________________________________________________\n",
      "max_pooling2d_2 (MaxPooling2 (None, 25, 25, 75)        0         \n",
      "_________________________________________________________________\n",
      "dropout_2 (Dropout)          (None, 25, 25, 75)        0         \n",
      "_________________________________________________________________\n",
      "flatten_1 (Flatten)          (None, 46875)             0         \n",
      "_________________________________________________________________\n",
      "dense_1 (Dense)              (None, 1000)              46876000  \n",
      "_________________________________________________________________\n",
      "batch_normalization_5 (Batch (None, 1000)              4000      \n",
      "_________________________________________________________________\n",
      "dropout_3 (Dropout)          (None, 1000)              0         \n",
      "_________________________________________________________________\n",
      "dense_2 (Dense)              (None, 500)               500500    \n",
      "_________________________________________________________________\n",
      "batch_normalization_6 (Batch (None, 500)               2000      \n",
      "_________________________________________________________________\n",
      "dropout_4 (Dropout)          (None, 500)               0         \n",
      "_________________________________________________________________\n",
      "dense_3 (Dense)              (None, 7)                 3507      \n",
      "=================================================================\n",
      "Total params: 47,460,807\n",
      "Trainable params: 47,457,407\n",
      "Non-trainable params: 3,400\n",
      "_________________________________________________________________\n"
     ]
    }
   ],
   "source": [
    "model_cnn.compile(optimizer=RMSprop(learning_rate= 0.000005), loss=\"categorical_crossentropy\", metrics=[\"accuracy\"])\n",
    "model_cnn.summary()"
   ]
  },
  {
   "cell_type": "code",
   "execution_count": 11,
   "metadata": {},
   "outputs": [
    {
     "name": "stdout",
     "output_type": "stream",
     "text": [
      "WARNING:tensorflow:From /home/e-bcivitci/anaconda3/lib/python3.7/site-packages/keras/backend/tensorflow_backend.py:422: The name tf.global_variables is deprecated. Please use tf.compat.v1.global_variables instead.\n",
      "\n",
      "Epoch 1/200\n",
      "2455/2455 [==============================] - 423s 172ms/step - loss: 1.2689 - accuracy: 0.5545 - val_loss: 2.0194 - val_accuracy: 0.4846\n",
      "Epoch 2/200\n",
      "2455/2455 [==============================] - 105s 43ms/step - loss: 0.8152 - accuracy: 0.6953 - val_loss: 2.7903 - val_accuracy: 0.4534\n",
      "Epoch 3/200\n",
      "2455/2455 [==============================] - 105s 43ms/step - loss: 0.6648 - accuracy: 0.7499 - val_loss: 2.6761 - val_accuracy: 0.4254\n",
      "Epoch 4/200\n",
      "2455/2455 [==============================] - 105s 43ms/step - loss: 0.5748 - accuracy: 0.7845 - val_loss: 2.6105 - val_accuracy: 0.3855\n",
      "Epoch 5/200\n",
      "2455/2455 [==============================] - 105s 43ms/step - loss: 0.5164 - accuracy: 0.8052 - val_loss: 3.8057 - val_accuracy: 0.3857\n",
      "Epoch 6/200\n",
      "2455/2455 [==============================] - 105s 43ms/step - loss: 0.4467 - accuracy: 0.8308 - val_loss: 2.3922 - val_accuracy: 0.3880\n",
      "Epoch 7/200\n",
      "2455/2455 [==============================] - 105s 43ms/step - loss: 0.4124 - accuracy: 0.8435 - val_loss: 3.4321 - val_accuracy: 0.4081\n",
      "Epoch 8/200\n",
      "2455/2455 [==============================] - 105s 43ms/step - loss: 0.3673 - accuracy: 0.8588 - val_loss: 3.1638 - val_accuracy: 0.3834\n",
      "Epoch 9/200\n",
      "2455/2455 [==============================] - 105s 43ms/step - loss: 0.3428 - accuracy: 0.8673 - val_loss: 4.8235 - val_accuracy: 0.3772\n",
      "Epoch 10/200\n",
      "2455/2455 [==============================] - 105s 43ms/step - loss: 0.3202 - accuracy: 0.8767 - val_loss: 2.7302 - val_accuracy: 0.3669\n",
      "Epoch 11/200\n",
      "2455/2455 [==============================] - 105s 43ms/step - loss: 0.2958 - accuracy: 0.8846 - val_loss: 3.0004 - val_accuracy: 0.3739\n",
      "Epoch 12/200\n",
      "2455/2455 [==============================] - 105s 43ms/step - loss: 0.2748 - accuracy: 0.8945 - val_loss: 3.6977 - val_accuracy: 0.3325\n",
      "Epoch 13/200\n",
      "2455/2455 [==============================] - 105s 43ms/step - loss: 0.2696 - accuracy: 0.8964 - val_loss: 3.0738 - val_accuracy: 0.3144\n",
      "Epoch 14/200\n",
      "2455/2455 [==============================] - 105s 43ms/step - loss: 0.2484 - accuracy: 0.9045 - val_loss: 4.2341 - val_accuracy: 0.3412\n",
      "Epoch 15/200\n",
      "2455/2455 [==============================] - 105s 43ms/step - loss: 0.2310 - accuracy: 0.9098 - val_loss: 2.0556 - val_accuracy: 0.3371\n",
      "Epoch 16/200\n",
      "2455/2455 [==============================] - 105s 43ms/step - loss: 0.2258 - accuracy: 0.9140 - val_loss: 3.7856 - val_accuracy: 0.3387\n",
      "Epoch 17/200\n",
      "2455/2455 [==============================] - 105s 43ms/step - loss: 0.2089 - accuracy: 0.9203 - val_loss: 3.6780 - val_accuracy: 0.3557\n",
      "Epoch 18/200\n",
      "2455/2455 [==============================] - 105s 43ms/step - loss: 0.2016 - accuracy: 0.9248 - val_loss: 3.4646 - val_accuracy: 0.3321\n",
      "Epoch 19/200\n",
      "2455/2455 [==============================] - 105s 43ms/step - loss: 0.1991 - accuracy: 0.9240 - val_loss: 13.8921 - val_accuracy: 0.4215\n",
      "Epoch 20/200\n",
      "2455/2455 [==============================] - 105s 43ms/step - loss: 0.1874 - accuracy: 0.9279 - val_loss: 3.2323 - val_accuracy: 0.3319\n",
      "Epoch 21/200\n",
      "2455/2455 [==============================] - 105s 43ms/step - loss: 0.1786 - accuracy: 0.9316 - val_loss: 7.4535 - val_accuracy: 0.3711\n",
      "Epoch 22/200\n",
      "2455/2455 [==============================] - 105s 43ms/step - loss: 0.1770 - accuracy: 0.9325 - val_loss: 5.5996 - val_accuracy: 0.3655\n",
      "Epoch 23/200\n",
      "2455/2455 [==============================] - 105s 43ms/step - loss: 0.1681 - accuracy: 0.9367 - val_loss: 3.7374 - val_accuracy: 0.3733\n",
      "Epoch 24/200\n",
      "2455/2455 [==============================] - 105s 43ms/step - loss: 0.1664 - accuracy: 0.9374 - val_loss: 10.2965 - val_accuracy: 0.3362\n",
      "Epoch 25/200\n",
      "2455/2455 [==============================] - 105s 43ms/step - loss: 0.1569 - accuracy: 0.9403 - val_loss: 1.8183 - val_accuracy: 0.3843\n",
      "Epoch 26/200\n",
      "2455/2455 [==============================] - 105s 43ms/step - loss: 0.1502 - accuracy: 0.9441 - val_loss: 3.9739 - val_accuracy: 0.3497\n",
      "Epoch 27/200\n",
      "2455/2455 [==============================] - 105s 43ms/step - loss: 0.1449 - accuracy: 0.9461 - val_loss: 9.2026 - val_accuracy: 0.3957\n",
      "Epoch 28/200\n",
      "2455/2455 [==============================] - 105s 43ms/step - loss: 0.1372 - accuracy: 0.9492 - val_loss: 4.5969 - val_accuracy: 0.3682\n",
      "Epoch 29/200\n",
      "2455/2455 [==============================] - 105s 43ms/step - loss: 0.1392 - accuracy: 0.9490 - val_loss: 2.6922 - val_accuracy: 0.4118\n",
      "Epoch 30/200\n",
      "2455/2455 [==============================] - 105s 43ms/step - loss: 0.1253 - accuracy: 0.9524 - val_loss: 2.2911 - val_accuracy: 0.4135\n",
      "Epoch 31/200\n",
      "2455/2455 [==============================] - 105s 43ms/step - loss: 0.1278 - accuracy: 0.9529 - val_loss: 2.3917 - val_accuracy: 0.3956\n",
      "Epoch 32/200\n",
      "2455/2455 [==============================] - 105s 43ms/step - loss: 0.1227 - accuracy: 0.9540 - val_loss: 15.3358 - val_accuracy: 0.4046\n",
      "Epoch 33/200\n",
      "2455/2455 [==============================] - 105s 43ms/step - loss: 0.1211 - accuracy: 0.9563 - val_loss: 2.2817 - val_accuracy: 0.4275\n",
      "Epoch 34/200\n",
      "2455/2455 [==============================] - 105s 43ms/step - loss: 0.1117 - accuracy: 0.9588 - val_loss: 8.1145 - val_accuracy: 0.4159\n",
      "Epoch 35/200\n",
      "2455/2455 [==============================] - 105s 43ms/step - loss: 0.1139 - accuracy: 0.9591 - val_loss: 6.9069 - val_accuracy: 0.4111\n",
      "Epoch 36/200\n",
      "2455/2455 [==============================] - 105s 43ms/step - loss: 0.1099 - accuracy: 0.9591 - val_loss: 4.4090 - val_accuracy: 0.3933\n",
      "Epoch 37/200\n",
      "2455/2455 [==============================] - 105s 43ms/step - loss: 0.1100 - accuracy: 0.9596 - val_loss: 2.4217 - val_accuracy: 0.4153\n",
      "Epoch 38/200\n",
      "2455/2455 [==============================] - 105s 43ms/step - loss: 0.1005 - accuracy: 0.9624 - val_loss: 2.4087 - val_accuracy: 0.4135\n",
      "Epoch 39/200\n",
      "2455/2455 [==============================] - 105s 43ms/step - loss: 0.1046 - accuracy: 0.9623 - val_loss: 7.7560 - val_accuracy: 0.3924\n",
      "Epoch 40/200\n",
      "2455/2455 [==============================] - 105s 43ms/step - loss: 0.1032 - accuracy: 0.9626 - val_loss: 11.2072 - val_accuracy: 0.4229\n",
      "Epoch 41/200\n",
      "2455/2455 [==============================] - 105s 43ms/step - loss: 0.0969 - accuracy: 0.9659 - val_loss: 3.5773 - val_accuracy: 0.3841\n",
      "Epoch 42/200\n",
      "2455/2455 [==============================] - 105s 43ms/step - loss: 0.0972 - accuracy: 0.9648 - val_loss: 6.5593 - val_accuracy: 0.4063\n",
      "Epoch 43/200\n",
      "2455/2455 [==============================] - 105s 43ms/step - loss: 0.0905 - accuracy: 0.9675 - val_loss: 2.1598 - val_accuracy: 0.4089\n",
      "Epoch 44/200\n",
      "2455/2455 [==============================] - 105s 43ms/step - loss: 0.0878 - accuracy: 0.9676 - val_loss: 5.6392 - val_accuracy: 0.3974\n",
      "Epoch 45/200\n",
      "2455/2455 [==============================] - 105s 43ms/step - loss: 0.0896 - accuracy: 0.9680 - val_loss: 19.3015 - val_accuracy: 0.4189\n",
      "Epoch 46/200\n",
      "2455/2455 [==============================] - 105s 43ms/step - loss: 0.0831 - accuracy: 0.9691 - val_loss: 3.0265 - val_accuracy: 0.3975\n",
      "Epoch 47/200\n",
      "2455/2455 [==============================] - 105s 43ms/step - loss: 0.0869 - accuracy: 0.9702 - val_loss: 7.2077 - val_accuracy: 0.4131\n",
      "Epoch 48/200\n",
      "2455/2455 [==============================] - 105s 43ms/step - loss: 0.0858 - accuracy: 0.9692 - val_loss: 8.0816 - val_accuracy: 0.4286\n",
      "Epoch 49/200\n",
      "2455/2455 [==============================] - 105s 43ms/step - loss: 0.0784 - accuracy: 0.9720 - val_loss: 6.1268 - val_accuracy: 0.4401\n",
      "Epoch 50/200\n",
      "2455/2455 [==============================] - 105s 43ms/step - loss: 0.0765 - accuracy: 0.9733 - val_loss: 7.9478 - val_accuracy: 0.4230\n",
      "Epoch 51/200\n",
      "2455/2455 [==============================] - 105s 43ms/step - loss: 0.0771 - accuracy: 0.9729 - val_loss: 2.4686 - val_accuracy: 0.4580\n",
      "Epoch 52/200\n",
      "2455/2455 [==============================] - 105s 43ms/step - loss: 0.0704 - accuracy: 0.9755 - val_loss: 5.8536 - val_accuracy: 0.4277\n",
      "Epoch 53/200\n",
      "2455/2455 [==============================] - 105s 43ms/step - loss: 0.0733 - accuracy: 0.9745 - val_loss: 6.6398 - val_accuracy: 0.4563\n",
      "Epoch 54/200\n"
     ]
    },
    {
     "name": "stdout",
     "output_type": "stream",
     "text": [
      "2455/2455 [==============================] - 105s 43ms/step - loss: 0.0715 - accuracy: 0.9747 - val_loss: 4.2039 - val_accuracy: 0.4231\n",
      "Epoch 55/200\n",
      "2455/2455 [==============================] - 105s 43ms/step - loss: 0.0721 - accuracy: 0.9736 - val_loss: 3.4235 - val_accuracy: 0.4160\n",
      "Epoch 56/200\n",
      "2455/2455 [==============================] - 105s 43ms/step - loss: 0.0704 - accuracy: 0.9754 - val_loss: 3.5100 - val_accuracy: 0.4054\n",
      "Epoch 57/200\n",
      "2455/2455 [==============================] - 105s 43ms/step - loss: 0.0728 - accuracy: 0.9748 - val_loss: 6.7849 - val_accuracy: 0.4179\n",
      "Epoch 58/200\n",
      "2455/2455 [==============================] - 105s 43ms/step - loss: 0.0665 - accuracy: 0.9767 - val_loss: 2.6283 - val_accuracy: 0.4185\n",
      "Epoch 59/200\n",
      "2455/2455 [==============================] - 105s 43ms/step - loss: 0.0686 - accuracy: 0.9755 - val_loss: 3.8222 - val_accuracy: 0.4182\n",
      "Epoch 60/200\n",
      "2455/2455 [==============================] - 105s 43ms/step - loss: 0.0652 - accuracy: 0.9772 - val_loss: 6.0987 - val_accuracy: 0.4149\n",
      "Epoch 61/200\n",
      "2455/2455 [==============================] - 105s 43ms/step - loss: 0.0621 - accuracy: 0.9787 - val_loss: 2.0915 - val_accuracy: 0.4417\n",
      "Epoch 62/200\n",
      "2455/2455 [==============================] - 105s 43ms/step - loss: 0.0639 - accuracy: 0.9769 - val_loss: 5.5496 - val_accuracy: 0.4474\n",
      "Epoch 63/200\n",
      "2455/2455 [==============================] - 105s 43ms/step - loss: 0.0595 - accuracy: 0.9793 - val_loss: 2.7489 - val_accuracy: 0.4527\n",
      "Epoch 64/200\n",
      "2455/2455 [==============================] - 105s 43ms/step - loss: 0.0563 - accuracy: 0.9796 - val_loss: 3.7578 - val_accuracy: 0.4155\n",
      "Epoch 65/200\n",
      "2455/2455 [==============================] - 105s 43ms/step - loss: 0.0599 - accuracy: 0.9793 - val_loss: 3.5151 - val_accuracy: 0.4398\n",
      "Epoch 66/200\n",
      "2455/2455 [==============================] - 105s 43ms/step - loss: 0.0572 - accuracy: 0.9797 - val_loss: 4.8873 - val_accuracy: 0.4518\n",
      "Epoch 67/200\n",
      "2455/2455 [==============================] - 105s 43ms/step - loss: 0.0558 - accuracy: 0.9804 - val_loss: 6.1877 - val_accuracy: 0.4431\n",
      "Epoch 68/200\n",
      "2455/2455 [==============================] - 105s 43ms/step - loss: 0.0559 - accuracy: 0.9800 - val_loss: 6.1299 - val_accuracy: 0.4220\n",
      "Epoch 69/200\n",
      "2455/2455 [==============================] - 105s 43ms/step - loss: 0.0574 - accuracy: 0.9803 - val_loss: 5.8151 - val_accuracy: 0.4612\n",
      "Epoch 70/200\n",
      "2455/2455 [==============================] - 105s 43ms/step - loss: 0.0547 - accuracy: 0.9812 - val_loss: 4.7559 - val_accuracy: 0.4450\n",
      "Epoch 71/200\n",
      "2455/2455 [==============================] - 105s 43ms/step - loss: 0.0562 - accuracy: 0.9802 - val_loss: 6.9995 - val_accuracy: 0.4651\n",
      "Epoch 72/200\n",
      "2455/2455 [==============================] - 105s 43ms/step - loss: 0.0541 - accuracy: 0.9822 - val_loss: 4.8449 - val_accuracy: 0.4255\n",
      "Epoch 73/200\n",
      "2455/2455 [==============================] - 105s 43ms/step - loss: 0.0516 - accuracy: 0.9821 - val_loss: 1.6275 - val_accuracy: 0.4465\n",
      "Epoch 74/200\n",
      "2455/2455 [==============================] - 105s 43ms/step - loss: 0.0545 - accuracy: 0.9817 - val_loss: 7.3659 - val_accuracy: 0.4493\n",
      "Epoch 75/200\n",
      "2455/2455 [==============================] - 105s 43ms/step - loss: 0.0499 - accuracy: 0.9830 - val_loss: 3.8826 - val_accuracy: 0.4104\n",
      "Epoch 76/200\n",
      "2455/2455 [==============================] - 105s 43ms/step - loss: 0.0493 - accuracy: 0.9824 - val_loss: 5.5783 - val_accuracy: 0.4192\n",
      "Epoch 77/200\n",
      "2455/2455 [==============================] - 105s 43ms/step - loss: 0.0529 - accuracy: 0.9815 - val_loss: 1.8975 - val_accuracy: 0.4124\n",
      "Epoch 78/200\n",
      "2455/2455 [==============================] - 106s 43ms/step - loss: 0.0499 - accuracy: 0.9835 - val_loss: 8.0671 - val_accuracy: 0.4244\n",
      "Epoch 79/200\n",
      "2455/2455 [==============================] - 107s 43ms/step - loss: 0.0485 - accuracy: 0.9826 - val_loss: 3.0186 - val_accuracy: 0.4531\n",
      "Epoch 80/200\n",
      "2455/2455 [==============================] - 202s 82ms/step - loss: 0.0483 - accuracy: 0.9834 - val_loss: 1.8600 - val_accuracy: 0.4318\n",
      "Epoch 81/200\n",
      "2455/2455 [==============================] - 581s 237ms/step - loss: 0.0507 - accuracy: 0.9823 - val_loss: 2.5049 - val_accuracy: 0.4487\n",
      "Epoch 82/200\n",
      "2455/2455 [==============================] - 314s 128ms/step - loss: 0.0417 - accuracy: 0.9849 - val_loss: 2.1727 - val_accuracy: 0.4677\n",
      "Epoch 83/200\n",
      "2455/2455 [==============================] - 105s 43ms/step - loss: 0.0496 - accuracy: 0.9829 - val_loss: 3.4455 - val_accuracy: 0.4370\n",
      "Epoch 84/200\n",
      "2455/2455 [==============================] - 105s 43ms/step - loss: 0.0434 - accuracy: 0.9845 - val_loss: 4.8336 - val_accuracy: 0.4750\n",
      "Epoch 85/200\n",
      "2455/2455 [==============================] - 105s 43ms/step - loss: 0.0475 - accuracy: 0.9848 - val_loss: 7.0402 - val_accuracy: 0.4834\n",
      "Epoch 86/200\n",
      "2455/2455 [==============================] - 105s 43ms/step - loss: 0.0459 - accuracy: 0.9842 - val_loss: 3.3877 - val_accuracy: 0.4692\n",
      "Epoch 87/200\n",
      "2455/2455 [==============================] - 105s 43ms/step - loss: 0.0462 - accuracy: 0.9838 - val_loss: 2.6642 - val_accuracy: 0.4947\n",
      "Epoch 88/200\n",
      "2455/2455 [==============================] - 105s 43ms/step - loss: 0.0462 - accuracy: 0.9848 - val_loss: 2.3405 - val_accuracy: 0.5003\n",
      "Epoch 89/200\n",
      "2455/2455 [==============================] - 105s 43ms/step - loss: 0.0476 - accuracy: 0.9850 - val_loss: 2.6852 - val_accuracy: 0.5187\n",
      "Epoch 90/200\n",
      "2455/2455 [==============================] - 105s 43ms/step - loss: 0.0424 - accuracy: 0.9857 - val_loss: 4.4676 - val_accuracy: 0.5398\n",
      "Epoch 91/200\n",
      "2455/2455 [==============================] - 105s 43ms/step - loss: 0.0420 - accuracy: 0.9858 - val_loss: 2.9899 - val_accuracy: 0.5850\n",
      "Epoch 92/200\n",
      "2455/2455 [==============================] - 105s 43ms/step - loss: 0.0427 - accuracy: 0.9847 - val_loss: 2.4038 - val_accuracy: 0.5593\n",
      "Epoch 93/200\n",
      "2455/2455 [==============================] - 105s 43ms/step - loss: 0.0417 - accuracy: 0.9859 - val_loss: 3.1210 - val_accuracy: 0.5560\n",
      "Epoch 94/200\n",
      "2455/2455 [==============================] - 105s 43ms/step - loss: 0.0404 - accuracy: 0.9865 - val_loss: 1.2812 - val_accuracy: 0.5468\n",
      "Epoch 95/200\n",
      "2455/2455 [==============================] - 105s 43ms/step - loss: 0.0377 - accuracy: 0.9873 - val_loss: 2.4402 - val_accuracy: 0.5502\n",
      "Epoch 96/200\n",
      "2455/2455 [==============================] - 105s 43ms/step - loss: 0.0447 - accuracy: 0.9854 - val_loss: 2.6270 - val_accuracy: 0.5436\n",
      "Epoch 97/200\n",
      "2455/2455 [==============================] - 105s 43ms/step - loss: 0.0394 - accuracy: 0.9872 - val_loss: 1.5438 - val_accuracy: 0.5726\n",
      "Epoch 98/200\n",
      "2455/2455 [==============================] - 105s 43ms/step - loss: 0.0355 - accuracy: 0.9883 - val_loss: 3.0919 - val_accuracy: 0.5714\n",
      "Epoch 99/200\n",
      "2455/2455 [==============================] - 105s 43ms/step - loss: 0.0383 - accuracy: 0.9871 - val_loss: 3.6288 - val_accuracy: 0.5968\n",
      "Epoch 100/200\n",
      "2455/2455 [==============================] - 105s 43ms/step - loss: 0.0410 - accuracy: 0.9864 - val_loss: 3.2124 - val_accuracy: 0.6070\n",
      "Epoch 101/200\n",
      "2455/2455 [==============================] - 105s 43ms/step - loss: 0.0386 - accuracy: 0.9876 - val_loss: 2.1933 - val_accuracy: 0.5721\n",
      "Epoch 102/200\n",
      "2455/2455 [==============================] - 105s 43ms/step - loss: 0.0398 - accuracy: 0.9872 - val_loss: 0.9980 - val_accuracy: 0.5703\n",
      "Epoch 103/200\n",
      "2455/2455 [==============================] - 105s 43ms/step - loss: 0.0370 - accuracy: 0.9873 - val_loss: 1.9004 - val_accuracy: 0.5717\n",
      "Epoch 104/200\n",
      "2455/2455 [==============================] - 105s 43ms/step - loss: 0.0388 - accuracy: 0.9872 - val_loss: 1.4207 - val_accuracy: 0.5295\n",
      "Epoch 105/200\n",
      "2455/2455 [==============================] - 105s 43ms/step - loss: 0.0359 - accuracy: 0.9889 - val_loss: 2.9292 - val_accuracy: 0.5469\n",
      "Epoch 106/200\n",
      "2455/2455 [==============================] - 105s 43ms/step - loss: 0.0377 - accuracy: 0.9869 - val_loss: 1.5445 - val_accuracy: 0.5568\n",
      "Epoch 107/200\n",
      "2455/2455 [==============================] - 105s 43ms/step - loss: 0.0379 - accuracy: 0.9871 - val_loss: 2.3189 - val_accuracy: 0.5537\n",
      "Epoch 108/200\n",
      "2455/2455 [==============================] - 105s 43ms/step - loss: 0.0378 - accuracy: 0.9869 - val_loss: 3.2430 - val_accuracy: 0.5761\n"
     ]
    },
    {
     "name": "stdout",
     "output_type": "stream",
     "text": [
      "Epoch 109/200\n",
      "2455/2455 [==============================] - 105s 43ms/step - loss: 0.0367 - accuracy: 0.9876 - val_loss: 2.7303 - val_accuracy: 0.5890\n",
      "Epoch 110/200\n",
      "2455/2455 [==============================] - 105s 43ms/step - loss: 0.0338 - accuracy: 0.9880 - val_loss: 3.8330 - val_accuracy: 0.5923\n",
      "Epoch 111/200\n",
      "2455/2455 [==============================] - 105s 43ms/step - loss: 0.0357 - accuracy: 0.9880 - val_loss: 1.7775 - val_accuracy: 0.6234\n",
      "Epoch 112/200\n",
      "2455/2455 [==============================] - 105s 43ms/step - loss: 0.0374 - accuracy: 0.9883 - val_loss: 2.4589 - val_accuracy: 0.5832\n",
      "Epoch 113/200\n",
      "2455/2455 [==============================] - 105s 43ms/step - loss: 0.0378 - accuracy: 0.9878 - val_loss: 3.5140 - val_accuracy: 0.6033\n",
      "Epoch 114/200\n",
      "2455/2455 [==============================] - 105s 43ms/step - loss: 0.0367 - accuracy: 0.9877 - val_loss: 0.9612 - val_accuracy: 0.6477\n",
      "Epoch 115/200\n",
      "2455/2455 [==============================] - 105s 43ms/step - loss: 0.0347 - accuracy: 0.9888 - val_loss: 0.9433 - val_accuracy: 0.6191\n",
      "Epoch 116/200\n",
      "2455/2455 [==============================] - 105s 43ms/step - loss: 0.0360 - accuracy: 0.9887 - val_loss: 1.5551 - val_accuracy: 0.6062\n",
      "Epoch 117/200\n",
      "2455/2455 [==============================] - 105s 43ms/step - loss: 0.0357 - accuracy: 0.9877 - val_loss: 1.6002 - val_accuracy: 0.6385\n",
      "Epoch 118/200\n",
      "2455/2455 [==============================] - 105s 43ms/step - loss: 0.0355 - accuracy: 0.9884 - val_loss: 2.9591 - val_accuracy: 0.5992\n",
      "Epoch 119/200\n",
      "2455/2455 [==============================] - 105s 43ms/step - loss: 0.0348 - accuracy: 0.9891 - val_loss: 0.9978 - val_accuracy: 0.5824\n",
      "Epoch 120/200\n",
      "2455/2455 [==============================] - 105s 43ms/step - loss: 0.0389 - accuracy: 0.9878 - val_loss: 3.2436 - val_accuracy: 0.5991\n",
      "Epoch 121/200\n",
      "2455/2455 [==============================] - 105s 43ms/step - loss: 0.0342 - accuracy: 0.9894 - val_loss: 1.5467 - val_accuracy: 0.6220\n",
      "Epoch 122/200\n",
      "2455/2455 [==============================] - 105s 43ms/step - loss: 0.0366 - accuracy: 0.9886 - val_loss: 3.7490 - val_accuracy: 0.6313\n",
      "Epoch 123/200\n",
      "2455/2455 [==============================] - 105s 43ms/step - loss: 0.0324 - accuracy: 0.9897 - val_loss: 2.5572 - val_accuracy: 0.6255\n",
      "Epoch 124/200\n",
      "2455/2455 [==============================] - 105s 43ms/step - loss: 0.0336 - accuracy: 0.9895 - val_loss: 1.1788 - val_accuracy: 0.6354\n",
      "Epoch 125/200\n",
      "2455/2455 [==============================] - 105s 43ms/step - loss: 0.0348 - accuracy: 0.9886 - val_loss: 2.4230 - val_accuracy: 0.6122\n",
      "Epoch 126/200\n",
      "2455/2455 [==============================] - 105s 43ms/step - loss: 0.0338 - accuracy: 0.9890 - val_loss: 1.4711 - val_accuracy: 0.5790\n",
      "Epoch 127/200\n",
      "2455/2455 [==============================] - 105s 43ms/step - loss: 0.0330 - accuracy: 0.9894 - val_loss: 2.5076 - val_accuracy: 0.6098\n",
      "Epoch 128/200\n",
      "2455/2455 [==============================] - 105s 43ms/step - loss: 0.0331 - accuracy: 0.9898 - val_loss: 2.0616 - val_accuracy: 0.6386\n",
      "Epoch 129/200\n",
      "2455/2455 [==============================] - 105s 43ms/step - loss: 0.0331 - accuracy: 0.9891 - val_loss: 2.2734 - val_accuracy: 0.6570\n",
      "Epoch 130/200\n",
      "2455/2455 [==============================] - 105s 43ms/step - loss: 0.0327 - accuracy: 0.9884 - val_loss: 0.7262 - val_accuracy: 0.6498\n",
      "Epoch 131/200\n",
      "2455/2455 [==============================] - 105s 43ms/step - loss: 0.0325 - accuracy: 0.9892 - val_loss: 1.4862 - val_accuracy: 0.6540\n",
      "Epoch 132/200\n",
      "2455/2455 [==============================] - 105s 43ms/step - loss: 0.0291 - accuracy: 0.9898 - val_loss: 1.5355 - val_accuracy: 0.6318\n",
      "Epoch 133/200\n",
      "2455/2455 [==============================] - 105s 43ms/step - loss: 0.0339 - accuracy: 0.9891 - val_loss: 2.3789 - val_accuracy: 0.5598\n",
      "Epoch 134/200\n",
      "2455/2455 [==============================] - 105s 43ms/step - loss: 0.0325 - accuracy: 0.9900 - val_loss: 3.3747 - val_accuracy: 0.6055\n",
      "Epoch 135/200\n",
      "2455/2455 [==============================] - 105s 43ms/step - loss: 0.0328 - accuracy: 0.9893 - val_loss: 1.9465 - val_accuracy: 0.6280\n",
      "Epoch 136/200\n",
      "2455/2455 [==============================] - 105s 43ms/step - loss: 0.0335 - accuracy: 0.9892 - val_loss: 3.6648 - val_accuracy: 0.6242\n",
      "Epoch 137/200\n",
      "2455/2455 [==============================] - 105s 43ms/step - loss: 0.0304 - accuracy: 0.9904 - val_loss: 3.2504 - val_accuracy: 0.6343\n",
      "Epoch 138/200\n",
      "2455/2455 [==============================] - 105s 43ms/step - loss: 0.0302 - accuracy: 0.9902 - val_loss: 1.1834 - val_accuracy: 0.6204\n",
      "Epoch 139/200\n",
      "2455/2455 [==============================] - 105s 43ms/step - loss: 0.0313 - accuracy: 0.9901 - val_loss: 3.2246 - val_accuracy: 0.6351\n",
      "Epoch 140/200\n",
      "2455/2455 [==============================] - 105s 43ms/step - loss: 0.0314 - accuracy: 0.9902 - val_loss: 3.8476 - val_accuracy: 0.6344\n",
      "Epoch 141/200\n",
      "2455/2455 [==============================] - 105s 43ms/step - loss: 0.0339 - accuracy: 0.9899 - val_loss: 2.5259 - val_accuracy: 0.6401\n",
      "Epoch 142/200\n",
      "2455/2455 [==============================] - 105s 43ms/step - loss: 0.0292 - accuracy: 0.9906 - val_loss: 4.4391 - val_accuracy: 0.6325\n",
      "Epoch 143/200\n",
      "2455/2455 [==============================] - 105s 43ms/step - loss: 0.0274 - accuracy: 0.9910 - val_loss: 2.2082 - val_accuracy: 0.6434\n",
      "Epoch 144/200\n",
      "2455/2455 [==============================] - 105s 43ms/step - loss: 0.0282 - accuracy: 0.9907 - val_loss: 2.8784 - val_accuracy: 0.6729\n",
      "Epoch 145/200\n",
      "2455/2455 [==============================] - 105s 43ms/step - loss: 0.0297 - accuracy: 0.9906 - val_loss: 1.5522 - val_accuracy: 0.6361\n",
      "Epoch 146/200\n",
      "2455/2455 [==============================] - 105s 43ms/step - loss: 0.0328 - accuracy: 0.9902 - val_loss: 4.5631 - val_accuracy: 0.6711\n",
      "Epoch 147/200\n",
      "2455/2455 [==============================] - 105s 43ms/step - loss: 0.0258 - accuracy: 0.9917 - val_loss: 1.1563 - val_accuracy: 0.6641\n",
      "Epoch 148/200\n",
      "2455/2455 [==============================] - 105s 43ms/step - loss: 0.0303 - accuracy: 0.9902 - val_loss: 2.8362 - val_accuracy: 0.6541\n",
      "Epoch 149/200\n",
      "2455/2455 [==============================] - 105s 43ms/step - loss: 0.0289 - accuracy: 0.9907 - val_loss: 1.8227 - val_accuracy: 0.6888\n",
      "Epoch 150/200\n",
      "2455/2455 [==============================] - 105s 43ms/step - loss: 0.0295 - accuracy: 0.9907 - val_loss: 3.7231 - val_accuracy: 0.6630\n",
      "Epoch 151/200\n",
      "2455/2455 [==============================] - 105s 43ms/step - loss: 0.0299 - accuracy: 0.9907 - val_loss: 2.7529 - val_accuracy: 0.6718\n",
      "Epoch 152/200\n",
      "2455/2455 [==============================] - 105s 43ms/step - loss: 0.0264 - accuracy: 0.9916 - val_loss: 1.3025 - val_accuracy: 0.6725\n",
      "Epoch 153/200\n",
      "2455/2455 [==============================] - 105s 43ms/step - loss: 0.0301 - accuracy: 0.9900 - val_loss: 1.9060 - val_accuracy: 0.6610\n",
      "Epoch 154/200\n",
      "2455/2455 [==============================] - 105s 43ms/step - loss: 0.0287 - accuracy: 0.9912 - val_loss: 1.5888 - val_accuracy: 0.6596\n",
      "Epoch 155/200\n",
      "2455/2455 [==============================] - 105s 43ms/step - loss: 0.0310 - accuracy: 0.9898 - val_loss: 2.4125 - val_accuracy: 0.6627\n",
      "Epoch 156/200\n",
      "2455/2455 [==============================] - 105s 43ms/step - loss: 0.0271 - accuracy: 0.9913 - val_loss: 1.3319 - val_accuracy: 0.6779\n",
      "Epoch 157/200\n",
      "2455/2455 [==============================] - 105s 43ms/step - loss: 0.0284 - accuracy: 0.9908 - val_loss: 4.4492 - val_accuracy: 0.6779\n",
      "Epoch 158/200\n",
      "2455/2455 [==============================] - 105s 43ms/step - loss: 0.0304 - accuracy: 0.9903 - val_loss: 0.5489 - val_accuracy: 0.6794\n",
      "Epoch 159/200\n",
      "2455/2455 [==============================] - 105s 43ms/step - loss: 0.0283 - accuracy: 0.9912 - val_loss: 1.7581 - val_accuracy: 0.6800\n",
      "Epoch 160/200\n",
      "2455/2455 [==============================] - 105s 43ms/step - loss: 0.0247 - accuracy: 0.9919 - val_loss: 1.9388 - val_accuracy: 0.6686\n",
      "Epoch 161/200\n",
      "2455/2455 [==============================] - 105s 43ms/step - loss: 0.0275 - accuracy: 0.9913 - val_loss: 1.5765 - val_accuracy: 0.6908\n",
      "Epoch 162/200\n",
      "2455/2455 [==============================] - 105s 43ms/step - loss: 0.0307 - accuracy: 0.9904 - val_loss: 0.7185 - val_accuracy: 0.6785\n",
      "Epoch 163/200\n"
     ]
    },
    {
     "name": "stdout",
     "output_type": "stream",
     "text": [
      "2455/2455 [==============================] - 105s 43ms/step - loss: 0.0244 - accuracy: 0.9918 - val_loss: 1.4276 - val_accuracy: 0.6797\n",
      "Epoch 164/200\n",
      "2455/2455 [==============================] - 105s 43ms/step - loss: 0.0297 - accuracy: 0.9908 - val_loss: 2.6823 - val_accuracy: 0.6865\n",
      "Epoch 165/200\n",
      "2455/2455 [==============================] - 105s 43ms/step - loss: 0.0254 - accuracy: 0.9913 - val_loss: 1.4920 - val_accuracy: 0.6720\n",
      "Epoch 166/200\n",
      "2455/2455 [==============================] - 105s 43ms/step - loss: 0.0275 - accuracy: 0.9912 - val_loss: 2.2534 - val_accuracy: 0.6614\n",
      "Epoch 167/200\n",
      "2455/2455 [==============================] - 105s 43ms/step - loss: 0.0272 - accuracy: 0.9914 - val_loss: 1.7861 - val_accuracy: 0.6808\n",
      "Epoch 168/200\n",
      "2455/2455 [==============================] - 105s 43ms/step - loss: 0.0306 - accuracy: 0.9904 - val_loss: 1.2661 - val_accuracy: 0.6153\n",
      "Epoch 169/200\n",
      "2455/2455 [==============================] - 105s 43ms/step - loss: 0.0286 - accuracy: 0.9913 - val_loss: 1.1107 - val_accuracy: 0.6519\n",
      "Epoch 170/200\n",
      "2455/2455 [==============================] - 105s 43ms/step - loss: 0.0280 - accuracy: 0.9916 - val_loss: 3.5975 - val_accuracy: 0.6702\n",
      "Epoch 171/200\n",
      "2455/2455 [==============================] - 105s 43ms/step - loss: 0.0265 - accuracy: 0.9915 - val_loss: 1.8004 - val_accuracy: 0.6830\n",
      "Epoch 172/200\n",
      "2455/2455 [==============================] - 105s 43ms/step - loss: 0.0290 - accuracy: 0.9915 - val_loss: 2.7050 - val_accuracy: 0.6784\n",
      "Epoch 173/200\n",
      "2455/2455 [==============================] - 105s 43ms/step - loss: 0.0308 - accuracy: 0.9909 - val_loss: 2.3684 - val_accuracy: 0.6892\n",
      "Epoch 174/200\n",
      "2455/2455 [==============================] - 105s 43ms/step - loss: 0.0272 - accuracy: 0.9912 - val_loss: 1.6192 - val_accuracy: 0.6992\n",
      "Epoch 175/200\n",
      "2455/2455 [==============================] - 105s 43ms/step - loss: 0.0255 - accuracy: 0.9918 - val_loss: 4.0157 - val_accuracy: 0.6965\n",
      "Epoch 176/200\n",
      "2455/2455 [==============================] - 105s 43ms/step - loss: 0.0249 - accuracy: 0.9922 - val_loss: 3.6135 - val_accuracy: 0.6853\n",
      "Epoch 177/200\n",
      "2455/2455 [==============================] - 105s 43ms/step - loss: 0.0236 - accuracy: 0.9920 - val_loss: 2.5697 - val_accuracy: 0.7206\n",
      "Epoch 178/200\n",
      "2455/2455 [==============================] - 105s 43ms/step - loss: 0.0248 - accuracy: 0.9917 - val_loss: 2.2565 - val_accuracy: 0.6914\n",
      "Epoch 179/200\n",
      "2455/2455 [==============================] - 105s 43ms/step - loss: 0.0291 - accuracy: 0.9916 - val_loss: 3.5684 - val_accuracy: 0.6909\n",
      "Epoch 180/200\n",
      "2455/2455 [==============================] - 105s 43ms/step - loss: 0.0248 - accuracy: 0.9925 - val_loss: 3.4208 - val_accuracy: 0.7045\n",
      "Epoch 181/200\n",
      "2455/2455 [==============================] - 105s 43ms/step - loss: 0.0246 - accuracy: 0.9922 - val_loss: 0.8318 - val_accuracy: 0.6855\n",
      "Epoch 182/200\n",
      "2455/2455 [==============================] - 105s 43ms/step - loss: 0.0232 - accuracy: 0.9920 - val_loss: 0.9487 - val_accuracy: 0.7089\n",
      "Epoch 183/200\n",
      "2455/2455 [==============================] - 105s 43ms/step - loss: 0.0236 - accuracy: 0.9921 - val_loss: 3.5256 - val_accuracy: 0.7129\n",
      "Epoch 184/200\n",
      "2455/2455 [==============================] - 105s 43ms/step - loss: 0.0250 - accuracy: 0.9925 - val_loss: 0.2402 - val_accuracy: 0.7062\n",
      "Epoch 185/200\n",
      "2455/2455 [==============================] - 105s 43ms/step - loss: 0.0266 - accuracy: 0.9915 - val_loss: 1.6272 - val_accuracy: 0.6820\n",
      "Epoch 186/200\n",
      "2455/2455 [==============================] - 105s 43ms/step - loss: 0.0224 - accuracy: 0.9930 - val_loss: 3.2307 - val_accuracy: 0.7076\n",
      "Epoch 187/200\n",
      "2455/2455 [==============================] - 105s 43ms/step - loss: 0.0249 - accuracy: 0.9930 - val_loss: 2.7796 - val_accuracy: 0.6914\n",
      "Epoch 188/200\n",
      "2455/2455 [==============================] - 105s 43ms/step - loss: 0.0258 - accuracy: 0.9924 - val_loss: 1.7584 - val_accuracy: 0.7057\n",
      "Epoch 189/200\n",
      "2455/2455 [==============================] - 105s 43ms/step - loss: 0.0265 - accuracy: 0.9924 - val_loss: 0.3272 - val_accuracy: 0.7109\n",
      "Epoch 190/200\n",
      "2455/2455 [==============================] - 105s 43ms/step - loss: 0.0256 - accuracy: 0.9919 - val_loss: 2.6188 - val_accuracy: 0.7118\n",
      "Epoch 191/200\n",
      "2455/2455 [==============================] - 105s 43ms/step - loss: 0.0263 - accuracy: 0.9917 - val_loss: 1.6308 - val_accuracy: 0.7289\n",
      "Epoch 192/200\n",
      "2455/2455 [==============================] - 105s 43ms/step - loss: 0.0221 - accuracy: 0.9929 - val_loss: 0.4512 - val_accuracy: 0.7210\n",
      "Epoch 193/200\n",
      "2455/2455 [==============================] - 105s 43ms/step - loss: 0.0290 - accuracy: 0.9909 - val_loss: 3.7427 - val_accuracy: 0.7166\n",
      "Epoch 194/200\n",
      "2455/2455 [==============================] - 105s 43ms/step - loss: 0.0239 - accuracy: 0.9927 - val_loss: 1.0725 - val_accuracy: 0.7043\n",
      "Epoch 195/200\n",
      "2455/2455 [==============================] - 105s 43ms/step - loss: 0.0260 - accuracy: 0.9917 - val_loss: 2.7993 - val_accuracy: 0.7056\n",
      "Epoch 196/200\n",
      "2455/2455 [==============================] - 105s 43ms/step - loss: 0.0239 - accuracy: 0.9923 - val_loss: 2.3934 - val_accuracy: 0.7201\n",
      "Epoch 197/200\n",
      "2455/2455 [==============================] - 195s 80ms/step - loss: 0.0287 - accuracy: 0.9918 - val_loss: 0.7698 - val_accuracy: 0.7062\n",
      "Epoch 198/200\n",
      "2455/2455 [==============================] - 620s 253ms/step - loss: 0.0237 - accuracy: 0.9923 - val_loss: 3.7649 - val_accuracy: 0.7155\n",
      "Epoch 199/200\n",
      "2455/2455 [==============================] - 108s 44ms/step - loss: 0.0217 - accuracy: 0.9928 - val_loss: 0.8506 - val_accuracy: 0.7011\n",
      "Epoch 200/200\n",
      "2455/2455 [==============================] - 105s 43ms/step - loss: 0.0219 - accuracy: 0.9930 - val_loss: 4.2450 - val_accuracy: 0.7224\n"
     ]
    }
   ],
   "source": [
    "train_cnn = model_cnn.fit(training_set,\n",
    "                          steps_per_epoch = training_set.samples// batch_size,\n",
    "                          epochs = 200,\n",
    "                          validation_data = validation_set,\n",
    "                          validation_steps = validation_set.samples// batch_size)\n",
    "model_cnn.save('cnn_200')"
   ]
  },
  {
   "cell_type": "code",
   "execution_count": 12,
   "metadata": {},
   "outputs": [],
   "source": [
    "np.save(\"history_cnn_200\",train_cnn.history)"
   ]
  },
  {
   "cell_type": "code",
   "execution_count": 13,
   "metadata": {},
   "outputs": [
    {
     "name": "stdout",
     "output_type": "stream",
     "text": [
      "614/614 [==============================] - 5s 9ms/step\n",
      "The accuracy of the model on the test set is  72.4949061870575 %\n"
     ]
    }
   ],
   "source": [
    "test_loss_cnn, test_acc_cnn = model_cnn.evaluate(validation_set)\n",
    "print(\"The accuracy of the model on the test set is \",100*test_acc_cnn, \"%\")"
   ]
  },
  {
   "cell_type": "code",
   "execution_count": 14,
   "metadata": {},
   "outputs": [
    {
     "data": {
      "image/png": "[encoded data removed]",
      "text/plain": [
       "<Figure size 432x288 with 1 Axes>"
      ]
     },
     "metadata": {
      "needs_background": "light"
     },
     "output_type": "display_data"
    },
    {
     "data": {
      "image/png": "[encoded data removed]",
      "text/plain": [
       "<Figure size 432x288 with 1 Axes>"
      ]
     },
     "metadata": {
      "needs_background": "light"
     },
     "output_type": "display_data"
    }
   ],
   "source": [
    "loss_function(train_cnn)\n",
    "accuracy(train_cnn)"
   ]
  },
  {
   "cell_type": "code",
   "execution_count": 30,
   "metadata": {},
   "outputs": [
    {
     "data": {
      "text/plain": [
       "0.7119"
      ]
     },
     "execution_count": 30,
     "metadata": {},
     "output_type": "execute_result"
    }
   ],
   "source": [
    "validation_set.reset()\n",
    "Y_pred = model_cnn.predict_generator(validation_set,steps=np.ceil(nb_samples/batch_size))\n",
    "classes = validation_set.classes[validation_set.index_array]\n",
    "y_pred = np.argmax(Y_pred, axis=-1)\n",
    "sum(y_pred==classes)/10000"
   ]
  },
  {
   "cell_type": "code",
   "execution_count": 32,
   "metadata": {},
   "outputs": [
    {
     "name": "stdout",
     "output_type": "stream",
     "text": [
      "[[1540    0    0    0    0    0    0]\n",
      " [1487   53    0    0    0    0    0]\n",
      " [  30  334  924   11    0    0    1]\n",
      " [  19    1    2 1205   66    0    7]\n",
      " [  59    0    0  596  562   24   59]\n",
      " [   1    0    0    0    0 1295    4]\n",
      " [   0    0    0    0    0    0 1540]]\n"
     ]
    }
   ],
   "source": [
    "conf = confusion_matrix(validation_set.classes[validation_set.index_array],y_pred)\n",
    "print(conf)"
   ]
  },
  {
   "cell_type": "code",
   "execution_count": 33,
   "metadata": {
    "scrolled": true
   },
   "outputs": [
    {
     "data": {
      "image/png": "[encoded data removed]",
      "text/plain": [
       "<Figure size 432x288 with 2 Axes>"
      ]
     },
     "metadata": {
      "needs_background": "light"
     },
     "output_type": "display_data"
    }
   ],
   "source": [
    "skplt.metrics.plot_confusion_matrix(\n",
    "        validation_set.classes[validation_set.index_array],\n",
    "        y_pred,normalize=True)\n",
    "\n",
    "plt.savefig(\"confusion.png\")\n",
    "plt.show()"
   ]
  },
  {
   "cell_type": "code",
   "execution_count": null,
   "metadata": {},
   "outputs": [],
   "source": []
  }
 ],
 "metadata": {
  "kernelspec": {
   "display_name": "Python 3",
   "language": "python",
   "name": "python3"
  },
  "language_info": {
   "codemirror_mode": {
    "name": "ipython",
    "version": 3
   },
   "file_extension": ".py",
   "mimetype": "text/x-python",
   "name": "python",
   "nbconvert_exporter": "python",
   "pygments_lexer": "ipython3",
   "version": "3.7.6"
  }
 },
 "nbformat": 4,
 "nbformat_minor": 2
}
